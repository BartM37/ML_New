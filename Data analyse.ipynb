{
 "cells": [
  {
   "cell_type": "code",
   "execution_count": null,
   "metadata": {},
   "outputs": [],
   "source": []
  },
  {
   "cell_type": "code",
   "execution_count": 8,
   "metadata": {},
   "outputs": [
    {
     "name": "stdout",
     "output_type": "stream",
     "text": [
      "Index(['_id', 'clusterID', 'connectionTime', 'disconnectTime',\n",
      "       'doneChargingTime', 'kWhDelivered', 'sessionID', 'siteID', 'spaceID',\n",
      "       'stationID', 'timezone', 'userID', 'userInputs'],\n",
      "      dtype='object')\n"
     ]
    },
    {
     "data": {
      "text/html": [
       "<div>\n",
       "<style scoped>\n",
       "    .dataframe tbody tr th:only-of-type {\n",
       "        vertical-align: middle;\n",
       "    }\n",
       "\n",
       "    .dataframe tbody tr th {\n",
       "        vertical-align: top;\n",
       "    }\n",
       "\n",
       "    .dataframe thead th {\n",
       "        text-align: right;\n",
       "    }\n",
       "</style>\n",
       "<table border=\"1\" class=\"dataframe\">\n",
       "  <thead>\n",
       "    <tr style=\"text-align: right;\">\n",
       "      <th></th>\n",
       "      <th>clusterID</th>\n",
       "      <th>kWhDelivered</th>\n",
       "      <th>siteID</th>\n",
       "      <th>userID</th>\n",
       "    </tr>\n",
       "  </thead>\n",
       "  <tbody>\n",
       "    <tr>\n",
       "      <th>count</th>\n",
       "      <td>11799.0</td>\n",
       "      <td>11799.000000</td>\n",
       "      <td>11799.0</td>\n",
       "      <td>468.000000</td>\n",
       "    </tr>\n",
       "    <tr>\n",
       "      <th>mean</th>\n",
       "      <td>39.0</td>\n",
       "      <td>8.951396</td>\n",
       "      <td>2.0</td>\n",
       "      <td>292.202991</td>\n",
       "    </tr>\n",
       "    <tr>\n",
       "      <th>std</th>\n",
       "      <td>0.0</td>\n",
       "      <td>6.602501</td>\n",
       "      <td>0.0</td>\n",
       "      <td>189.696680</td>\n",
       "    </tr>\n",
       "    <tr>\n",
       "      <th>min</th>\n",
       "      <td>39.0</td>\n",
       "      <td>0.501000</td>\n",
       "      <td>2.0</td>\n",
       "      <td>1.000000</td>\n",
       "    </tr>\n",
       "    <tr>\n",
       "      <th>25%</th>\n",
       "      <td>39.0</td>\n",
       "      <td>4.169500</td>\n",
       "      <td>2.0</td>\n",
       "      <td>159.000000</td>\n",
       "    </tr>\n",
       "    <tr>\n",
       "      <th>50%</th>\n",
       "      <td>39.0</td>\n",
       "      <td>7.561000</td>\n",
       "      <td>2.0</td>\n",
       "      <td>258.500000</td>\n",
       "    </tr>\n",
       "    <tr>\n",
       "      <th>75%</th>\n",
       "      <td>39.0</td>\n",
       "      <td>13.204000</td>\n",
       "      <td>2.0</td>\n",
       "      <td>513.000000</td>\n",
       "    </tr>\n",
       "    <tr>\n",
       "      <th>max</th>\n",
       "      <td>39.0</td>\n",
       "      <td>69.373000</td>\n",
       "      <td>2.0</td>\n",
       "      <td>781.000000</td>\n",
       "    </tr>\n",
       "  </tbody>\n",
       "</table>\n",
       "</div>"
      ],
      "text/plain": [
       "       clusterID  kWhDelivered   siteID      userID\n",
       "count    11799.0  11799.000000  11799.0  468.000000\n",
       "mean        39.0      8.951396      2.0  292.202991\n",
       "std          0.0      6.602501      0.0  189.696680\n",
       "min         39.0      0.501000      2.0    1.000000\n",
       "25%         39.0      4.169500      2.0  159.000000\n",
       "50%         39.0      7.561000      2.0  258.500000\n",
       "75%         39.0     13.204000      2.0  513.000000\n",
       "max         39.0     69.373000      2.0  781.000000"
      ]
     },
     "execution_count": 8,
     "metadata": {},
     "output_type": "execute_result"
    }
   ],
   "source": [
    "# Show the column names \n",
    "print(df.columns)\n",
    "df.describe()"
   ]
  },
  {
   "cell_type": "code",
   "execution_count": null,
   "metadata": {},
   "outputs": [
    {
     "data": {
      "text/plain": [
       "_id                     0\n",
       "clusterID               0\n",
       "connectionTime          0\n",
       "disconnectTime          0\n",
       "doneChargingTime        4\n",
       "kWhDelivered            0\n",
       "sessionID               0\n",
       "siteID                  0\n",
       "spaceID                 0\n",
       "stationID               0\n",
       "timezone                0\n",
       "userID              11331\n",
       "userInputs          11331\n",
       "dtype: int64"
      ]
     },
     "execution_count": 10,
     "metadata": {},
     "output_type": "execute_result"
    }
   ],
   "source": [
    "#looking for outliers\n",
    "df.isna().sum()"
   ]
  },
  {
   "cell_type": "code",
   "execution_count": null,
   "metadata": {},
   "outputs": [],
   "source": []
  },
  {
   "cell_type": "code",
   "execution_count": null,
   "metadata": {},
   "outputs": [
    {
     "name": "stdout",
     "output_type": "stream",
     "text": [
      "----- Kolomnamen in de dataset -----\n",
      "['_id', 'clusterID', 'connectionTime', 'disconnectTime', 'doneChargingTime', 'kWhDelivered', 'sessionID', 'siteID', 'spaceID', 'stationID', 'timezone', 'userID', 'userInputs', 'connectionHour'] \n",
      "\n"
     ]
    }
   ],
   "source": []
  },
  {
   "cell_type": "code",
   "execution_count": null,
   "metadata": {},
   "outputs": [],
   "source": [
    "# Duration = disconnectTime - connectionTime (per sessionID)"
   ]
  },
  {
   "cell_type": "code",
   "execution_count": 21,
   "metadata": {},
   "outputs": [
    {
     "data": {
      "application/vnd.plotly.v1+json": {
       "config": {
        "plotlyServerURL": "https://plot.ly"
       },
       "data": [
        {
         "hovertemplate": "Hour of Day=%{x}<br>Number of Sessions=%{y}<extra></extra>",
         "legendgroup": "",
         "line": {
          "color": "#636efa",
          "dash": "solid"
         },
         "marker": {
          "symbol": "circle"
         },
         "mode": "lines+markers",
         "name": "",
         "orientation": "v",
         "showlegend": false,
         "type": "scatter",
         "x": {
          "bdata": "AAAAAAEAAAACAAAAAwAAAAQAAAAFAAAABgAAAAcAAAAIAAAACQAAAAoAAAALAAAADAAAAA0AAAAOAAAADwAAABAAAAARAAAAEgAAABMAAAAUAAAAFQAAABYAAAAXAAAA",
          "dtype": "i4"
         },
         "xaxis": "x",
         "y": {
          "bdata": "LgARABUAgAA5AEYBYwMOCKEFqQKRARICEgJ5AZIB6gEpApkCGgJqAfUAwwBdADsA",
          "dtype": "i2"
         },
         "yaxis": "y"
        }
       ],
       "layout": {
        "legend": {
         "tracegroupgap": 0
        },
        "template": {
         "data": {
          "bar": [
           {
            "error_x": {
             "color": "#2a3f5f"
            },
            "error_y": {
             "color": "#2a3f5f"
            },
            "marker": {
             "line": {
              "color": "#E5ECF6",
              "width": 0.5
             },
             "pattern": {
              "fillmode": "overlay",
              "size": 10,
              "solidity": 0.2
             }
            },
            "type": "bar"
           }
          ],
          "barpolar": [
           {
            "marker": {
             "line": {
              "color": "#E5ECF6",
              "width": 0.5
             },
             "pattern": {
              "fillmode": "overlay",
              "size": 10,
              "solidity": 0.2
             }
            },
            "type": "barpolar"
           }
          ],
          "carpet": [
           {
            "aaxis": {
             "endlinecolor": "#2a3f5f",
             "gridcolor": "white",
             "linecolor": "white",
             "minorgridcolor": "white",
             "startlinecolor": "#2a3f5f"
            },
            "baxis": {
             "endlinecolor": "#2a3f5f",
             "gridcolor": "white",
             "linecolor": "white",
             "minorgridcolor": "white",
             "startlinecolor": "#2a3f5f"
            },
            "type": "carpet"
           }
          ],
          "choropleth": [
           {
            "colorbar": {
             "outlinewidth": 0,
             "ticks": ""
            },
            "type": "choropleth"
           }
          ],
          "contour": [
           {
            "colorbar": {
             "outlinewidth": 0,
             "ticks": ""
            },
            "colorscale": [
             [
              0,
              "#0d0887"
             ],
             [
              0.1111111111111111,
              "#46039f"
             ],
             [
              0.2222222222222222,
              "#7201a8"
             ],
             [
              0.3333333333333333,
              "#9c179e"
             ],
             [
              0.4444444444444444,
              "#bd3786"
             ],
             [
              0.5555555555555556,
              "#d8576b"
             ],
             [
              0.6666666666666666,
              "#ed7953"
             ],
             [
              0.7777777777777778,
              "#fb9f3a"
             ],
             [
              0.8888888888888888,
              "#fdca26"
             ],
             [
              1,
              "#f0f921"
             ]
            ],
            "type": "contour"
           }
          ],
          "contourcarpet": [
           {
            "colorbar": {
             "outlinewidth": 0,
             "ticks": ""
            },
            "type": "contourcarpet"
           }
          ],
          "heatmap": [
           {
            "colorbar": {
             "outlinewidth": 0,
             "ticks": ""
            },
            "colorscale": [
             [
              0,
              "#0d0887"
             ],
             [
              0.1111111111111111,
              "#46039f"
             ],
             [
              0.2222222222222222,
              "#7201a8"
             ],
             [
              0.3333333333333333,
              "#9c179e"
             ],
             [
              0.4444444444444444,
              "#bd3786"
             ],
             [
              0.5555555555555556,
              "#d8576b"
             ],
             [
              0.6666666666666666,
              "#ed7953"
             ],
             [
              0.7777777777777778,
              "#fb9f3a"
             ],
             [
              0.8888888888888888,
              "#fdca26"
             ],
             [
              1,
              "#f0f921"
             ]
            ],
            "type": "heatmap"
           }
          ],
          "histogram": [
           {
            "marker": {
             "pattern": {
              "fillmode": "overlay",
              "size": 10,
              "solidity": 0.2
             }
            },
            "type": "histogram"
           }
          ],
          "histogram2d": [
           {
            "colorbar": {
             "outlinewidth": 0,
             "ticks": ""
            },
            "colorscale": [
             [
              0,
              "#0d0887"
             ],
             [
              0.1111111111111111,
              "#46039f"
             ],
             [
              0.2222222222222222,
              "#7201a8"
             ],
             [
              0.3333333333333333,
              "#9c179e"
             ],
             [
              0.4444444444444444,
              "#bd3786"
             ],
             [
              0.5555555555555556,
              "#d8576b"
             ],
             [
              0.6666666666666666,
              "#ed7953"
             ],
             [
              0.7777777777777778,
              "#fb9f3a"
             ],
             [
              0.8888888888888888,
              "#fdca26"
             ],
             [
              1,
              "#f0f921"
             ]
            ],
            "type": "histogram2d"
           }
          ],
          "histogram2dcontour": [
           {
            "colorbar": {
             "outlinewidth": 0,
             "ticks": ""
            },
            "colorscale": [
             [
              0,
              "#0d0887"
             ],
             [
              0.1111111111111111,
              "#46039f"
             ],
             [
              0.2222222222222222,
              "#7201a8"
             ],
             [
              0.3333333333333333,
              "#9c179e"
             ],
             [
              0.4444444444444444,
              "#bd3786"
             ],
             [
              0.5555555555555556,
              "#d8576b"
             ],
             [
              0.6666666666666666,
              "#ed7953"
             ],
             [
              0.7777777777777778,
              "#fb9f3a"
             ],
             [
              0.8888888888888888,
              "#fdca26"
             ],
             [
              1,
              "#f0f921"
             ]
            ],
            "type": "histogram2dcontour"
           }
          ],
          "mesh3d": [
           {
            "colorbar": {
             "outlinewidth": 0,
             "ticks": ""
            },
            "type": "mesh3d"
           }
          ],
          "parcoords": [
           {
            "line": {
             "colorbar": {
              "outlinewidth": 0,
              "ticks": ""
             }
            },
            "type": "parcoords"
           }
          ],
          "pie": [
           {
            "automargin": true,
            "type": "pie"
           }
          ],
          "scatter": [
           {
            "fillpattern": {
             "fillmode": "overlay",
             "size": 10,
             "solidity": 0.2
            },
            "type": "scatter"
           }
          ],
          "scatter3d": [
           {
            "line": {
             "colorbar": {
              "outlinewidth": 0,
              "ticks": ""
             }
            },
            "marker": {
             "colorbar": {
              "outlinewidth": 0,
              "ticks": ""
             }
            },
            "type": "scatter3d"
           }
          ],
          "scattercarpet": [
           {
            "marker": {
             "colorbar": {
              "outlinewidth": 0,
              "ticks": ""
             }
            },
            "type": "scattercarpet"
           }
          ],
          "scattergeo": [
           {
            "marker": {
             "colorbar": {
              "outlinewidth": 0,
              "ticks": ""
             }
            },
            "type": "scattergeo"
           }
          ],
          "scattergl": [
           {
            "marker": {
             "colorbar": {
              "outlinewidth": 0,
              "ticks": ""
             }
            },
            "type": "scattergl"
           }
          ],
          "scattermap": [
           {
            "marker": {
             "colorbar": {
              "outlinewidth": 0,
              "ticks": ""
             }
            },
            "type": "scattermap"
           }
          ],
          "scattermapbox": [
           {
            "marker": {
             "colorbar": {
              "outlinewidth": 0,
              "ticks": ""
             }
            },
            "type": "scattermapbox"
           }
          ],
          "scatterpolar": [
           {
            "marker": {
             "colorbar": {
              "outlinewidth": 0,
              "ticks": ""
             }
            },
            "type": "scatterpolar"
           }
          ],
          "scatterpolargl": [
           {
            "marker": {
             "colorbar": {
              "outlinewidth": 0,
              "ticks": ""
             }
            },
            "type": "scatterpolargl"
           }
          ],
          "scatterternary": [
           {
            "marker": {
             "colorbar": {
              "outlinewidth": 0,
              "ticks": ""
             }
            },
            "type": "scatterternary"
           }
          ],
          "surface": [
           {
            "colorbar": {
             "outlinewidth": 0,
             "ticks": ""
            },
            "colorscale": [
             [
              0,
              "#0d0887"
             ],
             [
              0.1111111111111111,
              "#46039f"
             ],
             [
              0.2222222222222222,
              "#7201a8"
             ],
             [
              0.3333333333333333,
              "#9c179e"
             ],
             [
              0.4444444444444444,
              "#bd3786"
             ],
             [
              0.5555555555555556,
              "#d8576b"
             ],
             [
              0.6666666666666666,
              "#ed7953"
             ],
             [
              0.7777777777777778,
              "#fb9f3a"
             ],
             [
              0.8888888888888888,
              "#fdca26"
             ],
             [
              1,
              "#f0f921"
             ]
            ],
            "type": "surface"
           }
          ],
          "table": [
           {
            "cells": {
             "fill": {
              "color": "#EBF0F8"
             },
             "line": {
              "color": "white"
             }
            },
            "header": {
             "fill": {
              "color": "#C8D4E3"
             },
             "line": {
              "color": "white"
             }
            },
            "type": "table"
           }
          ]
         },
         "layout": {
          "annotationdefaults": {
           "arrowcolor": "#2a3f5f",
           "arrowhead": 0,
           "arrowwidth": 1
          },
          "autotypenumbers": "strict",
          "coloraxis": {
           "colorbar": {
            "outlinewidth": 0,
            "ticks": ""
           }
          },
          "colorscale": {
           "diverging": [
            [
             0,
             "#8e0152"
            ],
            [
             0.1,
             "#c51b7d"
            ],
            [
             0.2,
             "#de77ae"
            ],
            [
             0.3,
             "#f1b6da"
            ],
            [
             0.4,
             "#fde0ef"
            ],
            [
             0.5,
             "#f7f7f7"
            ],
            [
             0.6,
             "#e6f5d0"
            ],
            [
             0.7,
             "#b8e186"
            ],
            [
             0.8,
             "#7fbc41"
            ],
            [
             0.9,
             "#4d9221"
            ],
            [
             1,
             "#276419"
            ]
           ],
           "sequential": [
            [
             0,
             "#0d0887"
            ],
            [
             0.1111111111111111,
             "#46039f"
            ],
            [
             0.2222222222222222,
             "#7201a8"
            ],
            [
             0.3333333333333333,
             "#9c179e"
            ],
            [
             0.4444444444444444,
             "#bd3786"
            ],
            [
             0.5555555555555556,
             "#d8576b"
            ],
            [
             0.6666666666666666,
             "#ed7953"
            ],
            [
             0.7777777777777778,
             "#fb9f3a"
            ],
            [
             0.8888888888888888,
             "#fdca26"
            ],
            [
             1,
             "#f0f921"
            ]
           ],
           "sequentialminus": [
            [
             0,
             "#0d0887"
            ],
            [
             0.1111111111111111,
             "#46039f"
            ],
            [
             0.2222222222222222,
             "#7201a8"
            ],
            [
             0.3333333333333333,
             "#9c179e"
            ],
            [
             0.4444444444444444,
             "#bd3786"
            ],
            [
             0.5555555555555556,
             "#d8576b"
            ],
            [
             0.6666666666666666,
             "#ed7953"
            ],
            [
             0.7777777777777778,
             "#fb9f3a"
            ],
            [
             0.8888888888888888,
             "#fdca26"
            ],
            [
             1,
             "#f0f921"
            ]
           ]
          },
          "colorway": [
           "#636efa",
           "#EF553B",
           "#00cc96",
           "#ab63fa",
           "#FFA15A",
           "#19d3f3",
           "#FF6692",
           "#B6E880",
           "#FF97FF",
           "#FECB52"
          ],
          "font": {
           "color": "#2a3f5f"
          },
          "geo": {
           "bgcolor": "white",
           "lakecolor": "white",
           "landcolor": "#E5ECF6",
           "showlakes": true,
           "showland": true,
           "subunitcolor": "white"
          },
          "hoverlabel": {
           "align": "left"
          },
          "hovermode": "closest",
          "mapbox": {
           "style": "light"
          },
          "paper_bgcolor": "white",
          "plot_bgcolor": "#E5ECF6",
          "polar": {
           "angularaxis": {
            "gridcolor": "white",
            "linecolor": "white",
            "ticks": ""
           },
           "bgcolor": "#E5ECF6",
           "radialaxis": {
            "gridcolor": "white",
            "linecolor": "white",
            "ticks": ""
           }
          },
          "scene": {
           "xaxis": {
            "backgroundcolor": "#E5ECF6",
            "gridcolor": "white",
            "gridwidth": 2,
            "linecolor": "white",
            "showbackground": true,
            "ticks": "",
            "zerolinecolor": "white"
           },
           "yaxis": {
            "backgroundcolor": "#E5ECF6",
            "gridcolor": "white",
            "gridwidth": 2,
            "linecolor": "white",
            "showbackground": true,
            "ticks": "",
            "zerolinecolor": "white"
           },
           "zaxis": {
            "backgroundcolor": "#E5ECF6",
            "gridcolor": "white",
            "gridwidth": 2,
            "linecolor": "white",
            "showbackground": true,
            "ticks": "",
            "zerolinecolor": "white"
           }
          },
          "shapedefaults": {
           "line": {
            "color": "#2a3f5f"
           }
          },
          "ternary": {
           "aaxis": {
            "gridcolor": "white",
            "linecolor": "white",
            "ticks": ""
           },
           "baxis": {
            "gridcolor": "white",
            "linecolor": "white",
            "ticks": ""
           },
           "bgcolor": "#E5ECF6",
           "caxis": {
            "gridcolor": "white",
            "linecolor": "white",
            "ticks": ""
           }
          },
          "title": {
           "x": 0.05
          },
          "xaxis": {
           "automargin": true,
           "gridcolor": "white",
           "linecolor": "white",
           "ticks": "",
           "title": {
            "standoff": 15
           },
           "zerolinecolor": "white",
           "zerolinewidth": 2
          },
          "yaxis": {
           "automargin": true,
           "gridcolor": "white",
           "linecolor": "white",
           "ticks": "",
           "title": {
            "standoff": 15
           },
           "zerolinecolor": "white",
           "zerolinewidth": 2
          }
         }
        },
        "title": {
         "text": "Session Arrival Rate by Hour"
        },
        "xaxis": {
         "anchor": "y",
         "domain": [
          0,
          1
         ],
         "dtick": 1,
         "tick0": 0,
         "tickmode": "linear",
         "title": {
          "text": "Hour of Day"
         }
        },
        "yaxis": {
         "anchor": "x",
         "domain": [
          0,
          1
         ],
         "title": {
          "text": "Number of Sessions"
         }
        }
       }
      }
     },
     "metadata": {},
     "output_type": "display_data"
    },
    {
     "data": {
      "application/vnd.plotly.v1+json": {
       "config": {
        "plotlyServerURL": "https://plot.ly"
       },
       "data": [
        {
         "hovertemplate": "Hour of Day=%{x}<br>Average Duration (hours)=%{y}<extra></extra>",
         "legendgroup": "",
         "line": {
          "color": "#636efa",
          "dash": "solid"
         },
         "marker": {
          "symbol": "circle"
         },
         "mode": "lines+markers",
         "name": "",
         "orientation": "v",
         "showlegend": false,
         "type": "scatter",
         "x": {
          "bdata": "AAAAAAEAAAACAAAAAwAAAAQAAAAFAAAABgAAAAcAAAAIAAAACQAAAAoAAAALAAAADAAAAA0AAAAOAAAADwAAABAAAAARAAAAEgAAABMAAAAUAAAAFQAAABYAAAAXAAAA",
          "dtype": "i4"
         },
         "xaxis": "x",
         "y": {
          "bdata": "ritbG2FzEEBRPy4dDHsOQPr1tKSg3wpA+cWSX6yeG0BSHrm27jEMQNwAlxU5GhhAYj/I+9kiHUDrSa0yyYwcQEK337fTUhpAoiXkZvB3FkDkico5cC8RQO03x8A8ahBAFwgEjZQxDUAaopmWS7oGQNEHo+dPPANAVbOI9BBJAkDkl6DK7LcCQEbb8pHRSAJAd4Z1jssKB0B0G20ngOkKQNxLbc1hzA1AOsvmnzHND0BcaEZpnyIRQDaKU3zDZRFA",
          "dtype": "f8"
         },
         "yaxis": "y"
        }
       ],
       "layout": {
        "legend": {
         "tracegroupgap": 0
        },
        "template": {
         "data": {
          "bar": [
           {
            "error_x": {
             "color": "#2a3f5f"
            },
            "error_y": {
             "color": "#2a3f5f"
            },
            "marker": {
             "line": {
              "color": "#E5ECF6",
              "width": 0.5
             },
             "pattern": {
              "fillmode": "overlay",
              "size": 10,
              "solidity": 0.2
             }
            },
            "type": "bar"
           }
          ],
          "barpolar": [
           {
            "marker": {
             "line": {
              "color": "#E5ECF6",
              "width": 0.5
             },
             "pattern": {
              "fillmode": "overlay",
              "size": 10,
              "solidity": 0.2
             }
            },
            "type": "barpolar"
           }
          ],
          "carpet": [
           {
            "aaxis": {
             "endlinecolor": "#2a3f5f",
             "gridcolor": "white",
             "linecolor": "white",
             "minorgridcolor": "white",
             "startlinecolor": "#2a3f5f"
            },
            "baxis": {
             "endlinecolor": "#2a3f5f",
             "gridcolor": "white",
             "linecolor": "white",
             "minorgridcolor": "white",
             "startlinecolor": "#2a3f5f"
            },
            "type": "carpet"
           }
          ],
          "choropleth": [
           {
            "colorbar": {
             "outlinewidth": 0,
             "ticks": ""
            },
            "type": "choropleth"
           }
          ],
          "contour": [
           {
            "colorbar": {
             "outlinewidth": 0,
             "ticks": ""
            },
            "colorscale": [
             [
              0,
              "#0d0887"
             ],
             [
              0.1111111111111111,
              "#46039f"
             ],
             [
              0.2222222222222222,
              "#7201a8"
             ],
             [
              0.3333333333333333,
              "#9c179e"
             ],
             [
              0.4444444444444444,
              "#bd3786"
             ],
             [
              0.5555555555555556,
              "#d8576b"
             ],
             [
              0.6666666666666666,
              "#ed7953"
             ],
             [
              0.7777777777777778,
              "#fb9f3a"
             ],
             [
              0.8888888888888888,
              "#fdca26"
             ],
             [
              1,
              "#f0f921"
             ]
            ],
            "type": "contour"
           }
          ],
          "contourcarpet": [
           {
            "colorbar": {
             "outlinewidth": 0,
             "ticks": ""
            },
            "type": "contourcarpet"
           }
          ],
          "heatmap": [
           {
            "colorbar": {
             "outlinewidth": 0,
             "ticks": ""
            },
            "colorscale": [
             [
              0,
              "#0d0887"
             ],
             [
              0.1111111111111111,
              "#46039f"
             ],
             [
              0.2222222222222222,
              "#7201a8"
             ],
             [
              0.3333333333333333,
              "#9c179e"
             ],
             [
              0.4444444444444444,
              "#bd3786"
             ],
             [
              0.5555555555555556,
              "#d8576b"
             ],
             [
              0.6666666666666666,
              "#ed7953"
             ],
             [
              0.7777777777777778,
              "#fb9f3a"
             ],
             [
              0.8888888888888888,
              "#fdca26"
             ],
             [
              1,
              "#f0f921"
             ]
            ],
            "type": "heatmap"
           }
          ],
          "histogram": [
           {
            "marker": {
             "pattern": {
              "fillmode": "overlay",
              "size": 10,
              "solidity": 0.2
             }
            },
            "type": "histogram"
           }
          ],
          "histogram2d": [
           {
            "colorbar": {
             "outlinewidth": 0,
             "ticks": ""
            },
            "colorscale": [
             [
              0,
              "#0d0887"
             ],
             [
              0.1111111111111111,
              "#46039f"
             ],
             [
              0.2222222222222222,
              "#7201a8"
             ],
             [
              0.3333333333333333,
              "#9c179e"
             ],
             [
              0.4444444444444444,
              "#bd3786"
             ],
             [
              0.5555555555555556,
              "#d8576b"
             ],
             [
              0.6666666666666666,
              "#ed7953"
             ],
             [
              0.7777777777777778,
              "#fb9f3a"
             ],
             [
              0.8888888888888888,
              "#fdca26"
             ],
             [
              1,
              "#f0f921"
             ]
            ],
            "type": "histogram2d"
           }
          ],
          "histogram2dcontour": [
           {
            "colorbar": {
             "outlinewidth": 0,
             "ticks": ""
            },
            "colorscale": [
             [
              0,
              "#0d0887"
             ],
             [
              0.1111111111111111,
              "#46039f"
             ],
             [
              0.2222222222222222,
              "#7201a8"
             ],
             [
              0.3333333333333333,
              "#9c179e"
             ],
             [
              0.4444444444444444,
              "#bd3786"
             ],
             [
              0.5555555555555556,
              "#d8576b"
             ],
             [
              0.6666666666666666,
              "#ed7953"
             ],
             [
              0.7777777777777778,
              "#fb9f3a"
             ],
             [
              0.8888888888888888,
              "#fdca26"
             ],
             [
              1,
              "#f0f921"
             ]
            ],
            "type": "histogram2dcontour"
           }
          ],
          "mesh3d": [
           {
            "colorbar": {
             "outlinewidth": 0,
             "ticks": ""
            },
            "type": "mesh3d"
           }
          ],
          "parcoords": [
           {
            "line": {
             "colorbar": {
              "outlinewidth": 0,
              "ticks": ""
             }
            },
            "type": "parcoords"
           }
          ],
          "pie": [
           {
            "automargin": true,
            "type": "pie"
           }
          ],
          "scatter": [
           {
            "fillpattern": {
             "fillmode": "overlay",
             "size": 10,
             "solidity": 0.2
            },
            "type": "scatter"
           }
          ],
          "scatter3d": [
           {
            "line": {
             "colorbar": {
              "outlinewidth": 0,
              "ticks": ""
             }
            },
            "marker": {
             "colorbar": {
              "outlinewidth": 0,
              "ticks": ""
             }
            },
            "type": "scatter3d"
           }
          ],
          "scattercarpet": [
           {
            "marker": {
             "colorbar": {
              "outlinewidth": 0,
              "ticks": ""
             }
            },
            "type": "scattercarpet"
           }
          ],
          "scattergeo": [
           {
            "marker": {
             "colorbar": {
              "outlinewidth": 0,
              "ticks": ""
             }
            },
            "type": "scattergeo"
           }
          ],
          "scattergl": [
           {
            "marker": {
             "colorbar": {
              "outlinewidth": 0,
              "ticks": ""
             }
            },
            "type": "scattergl"
           }
          ],
          "scattermap": [
           {
            "marker": {
             "colorbar": {
              "outlinewidth": 0,
              "ticks": ""
             }
            },
            "type": "scattermap"
           }
          ],
          "scattermapbox": [
           {
            "marker": {
             "colorbar": {
              "outlinewidth": 0,
              "ticks": ""
             }
            },
            "type": "scattermapbox"
           }
          ],
          "scatterpolar": [
           {
            "marker": {
             "colorbar": {
              "outlinewidth": 0,
              "ticks": ""
             }
            },
            "type": "scatterpolar"
           }
          ],
          "scatterpolargl": [
           {
            "marker": {
             "colorbar": {
              "outlinewidth": 0,
              "ticks": ""
             }
            },
            "type": "scatterpolargl"
           }
          ],
          "scatterternary": [
           {
            "marker": {
             "colorbar": {
              "outlinewidth": 0,
              "ticks": ""
             }
            },
            "type": "scatterternary"
           }
          ],
          "surface": [
           {
            "colorbar": {
             "outlinewidth": 0,
             "ticks": ""
            },
            "colorscale": [
             [
              0,
              "#0d0887"
             ],
             [
              0.1111111111111111,
              "#46039f"
             ],
             [
              0.2222222222222222,
              "#7201a8"
             ],
             [
              0.3333333333333333,
              "#9c179e"
             ],
             [
              0.4444444444444444,
              "#bd3786"
             ],
             [
              0.5555555555555556,
              "#d8576b"
             ],
             [
              0.6666666666666666,
              "#ed7953"
             ],
             [
              0.7777777777777778,
              "#fb9f3a"
             ],
             [
              0.8888888888888888,
              "#fdca26"
             ],
             [
              1,
              "#f0f921"
             ]
            ],
            "type": "surface"
           }
          ],
          "table": [
           {
            "cells": {
             "fill": {
              "color": "#EBF0F8"
             },
             "line": {
              "color": "white"
             }
            },
            "header": {
             "fill": {
              "color": "#C8D4E3"
             },
             "line": {
              "color": "white"
             }
            },
            "type": "table"
           }
          ]
         },
         "layout": {
          "annotationdefaults": {
           "arrowcolor": "#2a3f5f",
           "arrowhead": 0,
           "arrowwidth": 1
          },
          "autotypenumbers": "strict",
          "coloraxis": {
           "colorbar": {
            "outlinewidth": 0,
            "ticks": ""
           }
          },
          "colorscale": {
           "diverging": [
            [
             0,
             "#8e0152"
            ],
            [
             0.1,
             "#c51b7d"
            ],
            [
             0.2,
             "#de77ae"
            ],
            [
             0.3,
             "#f1b6da"
            ],
            [
             0.4,
             "#fde0ef"
            ],
            [
             0.5,
             "#f7f7f7"
            ],
            [
             0.6,
             "#e6f5d0"
            ],
            [
             0.7,
             "#b8e186"
            ],
            [
             0.8,
             "#7fbc41"
            ],
            [
             0.9,
             "#4d9221"
            ],
            [
             1,
             "#276419"
            ]
           ],
           "sequential": [
            [
             0,
             "#0d0887"
            ],
            [
             0.1111111111111111,
             "#46039f"
            ],
            [
             0.2222222222222222,
             "#7201a8"
            ],
            [
             0.3333333333333333,
             "#9c179e"
            ],
            [
             0.4444444444444444,
             "#bd3786"
            ],
            [
             0.5555555555555556,
             "#d8576b"
            ],
            [
             0.6666666666666666,
             "#ed7953"
            ],
            [
             0.7777777777777778,
             "#fb9f3a"
            ],
            [
             0.8888888888888888,
             "#fdca26"
            ],
            [
             1,
             "#f0f921"
            ]
           ],
           "sequentialminus": [
            [
             0,
             "#0d0887"
            ],
            [
             0.1111111111111111,
             "#46039f"
            ],
            [
             0.2222222222222222,
             "#7201a8"
            ],
            [
             0.3333333333333333,
             "#9c179e"
            ],
            [
             0.4444444444444444,
             "#bd3786"
            ],
            [
             0.5555555555555556,
             "#d8576b"
            ],
            [
             0.6666666666666666,
             "#ed7953"
            ],
            [
             0.7777777777777778,
             "#fb9f3a"
            ],
            [
             0.8888888888888888,
             "#fdca26"
            ],
            [
             1,
             "#f0f921"
            ]
           ]
          },
          "colorway": [
           "#636efa",
           "#EF553B",
           "#00cc96",
           "#ab63fa",
           "#FFA15A",
           "#19d3f3",
           "#FF6692",
           "#B6E880",
           "#FF97FF",
           "#FECB52"
          ],
          "font": {
           "color": "#2a3f5f"
          },
          "geo": {
           "bgcolor": "white",
           "lakecolor": "white",
           "landcolor": "#E5ECF6",
           "showlakes": true,
           "showland": true,
           "subunitcolor": "white"
          },
          "hoverlabel": {
           "align": "left"
          },
          "hovermode": "closest",
          "mapbox": {
           "style": "light"
          },
          "paper_bgcolor": "white",
          "plot_bgcolor": "#E5ECF6",
          "polar": {
           "angularaxis": {
            "gridcolor": "white",
            "linecolor": "white",
            "ticks": ""
           },
           "bgcolor": "#E5ECF6",
           "radialaxis": {
            "gridcolor": "white",
            "linecolor": "white",
            "ticks": ""
           }
          },
          "scene": {
           "xaxis": {
            "backgroundcolor": "#E5ECF6",
            "gridcolor": "white",
            "gridwidth": 2,
            "linecolor": "white",
            "showbackground": true,
            "ticks": "",
            "zerolinecolor": "white"
           },
           "yaxis": {
            "backgroundcolor": "#E5ECF6",
            "gridcolor": "white",
            "gridwidth": 2,
            "linecolor": "white",
            "showbackground": true,
            "ticks": "",
            "zerolinecolor": "white"
           },
           "zaxis": {
            "backgroundcolor": "#E5ECF6",
            "gridcolor": "white",
            "gridwidth": 2,
            "linecolor": "white",
            "showbackground": true,
            "ticks": "",
            "zerolinecolor": "white"
           }
          },
          "shapedefaults": {
           "line": {
            "color": "#2a3f5f"
           }
          },
          "ternary": {
           "aaxis": {
            "gridcolor": "white",
            "linecolor": "white",
            "ticks": ""
           },
           "baxis": {
            "gridcolor": "white",
            "linecolor": "white",
            "ticks": ""
           },
           "bgcolor": "#E5ECF6",
           "caxis": {
            "gridcolor": "white",
            "linecolor": "white",
            "ticks": ""
           }
          },
          "title": {
           "x": 0.05
          },
          "xaxis": {
           "automargin": true,
           "gridcolor": "white",
           "linecolor": "white",
           "ticks": "",
           "title": {
            "standoff": 15
           },
           "zerolinecolor": "white",
           "zerolinewidth": 2
          },
          "yaxis": {
           "automargin": true,
           "gridcolor": "white",
           "linecolor": "white",
           "ticks": "",
           "title": {
            "standoff": 15
           },
           "zerolinecolor": "white",
           "zerolinewidth": 2
          }
         }
        },
        "title": {
         "text": "Average Session Duration by Hour"
        },
        "xaxis": {
         "anchor": "y",
         "domain": [
          0,
          1
         ],
         "dtick": 1,
         "tick0": 0,
         "tickmode": "linear",
         "title": {
          "text": "Hour of Day"
         }
        },
        "yaxis": {
         "anchor": "x",
         "domain": [
          0,
          1
         ],
         "title": {
          "text": "Average Duration (hours)"
         }
        }
       }
      }
     },
     "metadata": {},
     "output_type": "display_data"
    },
    {
     "name": "stdout",
     "output_type": "stream",
     "text": [
      "Arrival Rate by Hour:\n",
      "hour\n",
      "0       46\n",
      "1       17\n",
      "2       21\n",
      "3      128\n",
      "4       57\n",
      "5      326\n",
      "6      867\n",
      "7     2062\n",
      "8     1441\n",
      "9      681\n",
      "10     401\n",
      "11     530\n",
      "12     530\n",
      "13     377\n",
      "14     402\n",
      "15     490\n",
      "16     553\n",
      "17     665\n",
      "18     538\n",
      "19     362\n",
      "20     245\n",
      "21     195\n",
      "22      93\n",
      "23      59\n",
      "dtype: int64\n",
      "\n",
      "Average Session Duration by Hour (in hours):\n",
      "hour\n",
      "0     4.112675\n",
      "1     3.810082\n",
      "2     3.359193\n",
      "3     6.904954\n",
      "4     3.524381\n",
      "5     6.025608\n",
      "6     7.284035\n",
      "7     7.137486\n",
      "8     6.580886\n",
      "9     5.617128\n",
      "10    4.296327\n",
      "11    4.103747\n",
      "12    3.649209\n",
      "13    2.840964\n",
      "14    2.404449\n",
      "15    2.285677\n",
      "16    2.339807\n",
      "17    2.285556\n",
      "18    2.880271\n",
      "19    3.364014\n",
      "20    3.724796\n",
      "21    3.975192\n",
      "22    4.283811\n",
      "23    4.349379\n",
      "Name: session_duration, dtype: float64\n"
     ]
    }
   ],
   "source": [
    "import pandas as pd\n",
    "import numpy as np\n",
    "import plotly.graph_objects as go\n",
    "import plotly.express as px\n",
    "from datetime import datetime\n",
    "\n",
    "# =============================================================================\n",
    "# 1. LOAD THE DATA\n",
    "# =============================================================================\n",
    "df = pd.read_csv('acndata_sessions.csv')\n",
    "\n",
    "# =============================================================================\n",
    "# 2. DATA CLEANING AND FILTERING\n",
    "# =============================================================================\n",
    "df.dropna(subset=['sessionID', 'connectionTime', 'disconnectTime', 'doneChargingTime', 'kWhDelivered'], inplace=True)\n",
    "\n",
    "# Convert to datetime\n",
    "for col in ['connectionTime', 'disconnectTime', 'doneChargingTime']:\n",
    "    df[col] = pd.to_datetime(df[col], errors='coerce')\n",
    "\n",
    "# Drop rows with failed datetime conversion\n",
    "df.dropna(subset=['connectionTime', 'disconnectTime'], inplace=True)\n",
    "\n",
    "# Calculate session duration in hours\n",
    "df['session_duration'] = (df['disconnectTime'] - df['connectionTime']).dt.total_seconds() / 3600.0\n",
    "\n",
    "# Filter out non-positive and extreme durations\n",
    "df = df[(df['session_duration'] > 0) & (df['session_duration'] < 12)]\n",
    "\n",
    "# =============================================================================\n",
    "# 3. PLOTTING ARRIVAL RATE AND AVERAGE SESSION DURATION BY HOUR\n",
    "# =============================================================================\n",
    "\n",
    "# Normalize hour: shift such that 8:00 becomes 0\n",
    "df['hour'] = (df['connectionTime'].dt.hour - 8) % 24\n",
    "\n",
    "# Compute arrival rate and average session duration\n",
    "arrival_rate = df.groupby('hour').size()\n",
    "avg_duration = df.groupby('hour')['session_duration'].mean()\n",
    "\n",
    "# Convert to DataFrame for Plotly\n",
    "metrics_df = pd.DataFrame({\n",
    "    'hour': arrival_rate.index,\n",
    "    'arrival_rate': arrival_rate.values,\n",
    "    'avg_duration': avg_duration.values\n",
    "})\n",
    "\n",
    "# Plot arrival rate\n",
    "fig1 = px.line(metrics_df, x='hour', y='arrival_rate', markers=True,\n",
    "               labels={'hour': 'Hour of Day', 'arrival_rate': 'Number of Sessions'},\n",
    "               title='Session Arrival Rate by Hour')\n",
    "fig1.update_layout(xaxis=dict(tickmode='linear', tick0=0, dtick=1))\n",
    "\n",
    "# Plot average session duration\n",
    "fig2 = px.line(metrics_df, x='hour', y='avg_duration', markers=True,\n",
    "               labels={'hour': 'Hour of Day', 'avg_duration': 'Average Duration (hours)'},\n",
    "               title='Average Session Duration by Hour')\n",
    "fig2.update_layout(xaxis=dict(tickmode='linear', tick0=0, dtick=1))\n",
    "\n",
    "\n",
    "# Show plots\n",
    "fig1.show()\n",
    "fig2.show()\n",
    "\n",
    "# Optional: print metrics for verification\n",
    "print(\"Arrival Rate by Hour:\")\n",
    "print(arrival_rate.sort_index())\n",
    "print(\"\\nAverage Session Duration by Hour (in hours):\")\n",
    "print(avg_duration.sort_index())"
   ]
  },
  {
   "cell_type": "code",
   "execution_count": 23,
   "metadata": {},
   "outputs": [
    {
     "name": "stdout",
     "output_type": "stream",
     "text": [
      "----- DataFrame shape (rows, columns) -----\n",
      "(11799, 13) \n",
      "\n",
      "----- DataFrame info -----\n",
      "<class 'pandas.core.frame.DataFrame'>\n",
      "RangeIndex: 11799 entries, 0 to 11798\n",
      "Data columns (total 13 columns):\n",
      " #   Column            Non-Null Count  Dtype  \n",
      "---  ------            --------------  -----  \n",
      " 0   _id               11799 non-null  object \n",
      " 1   clusterID         11799 non-null  int64  \n",
      " 2   connectionTime    11799 non-null  object \n",
      " 3   disconnectTime    11799 non-null  object \n",
      " 4   doneChargingTime  11795 non-null  object \n",
      " 5   kWhDelivered      11799 non-null  float64\n",
      " 6   sessionID         11799 non-null  object \n",
      " 7   siteID            11799 non-null  int64  \n",
      " 8   spaceID           11799 non-null  object \n",
      " 9   stationID         11799 non-null  object \n",
      " 10  timezone          11799 non-null  object \n",
      " 11  userID            468 non-null    float64\n",
      " 12  userInputs        468 non-null    object \n",
      "dtypes: float64(2), int64(2), object(9)\n",
      "memory usage: 1.2+ MB\n",
      "None \n",
      "\n",
      "----- First 5 rows -----\n",
      "                        _id  clusterID                 connectionTime  \\\n",
      "0  5bc90cb9f9af8b0d7fe77cd2         39  Wed, 25 Apr 2018 11:08:04 GMT   \n",
      "1  5bc90cb9f9af8b0d7fe77cd3         39  Wed, 25 Apr 2018 13:45:10 GMT   \n",
      "2  5bc90cb9f9af8b0d7fe77cd4         39  Wed, 25 Apr 2018 13:45:50 GMT   \n",
      "3  5bc90cb9f9af8b0d7fe77cd5         39  Wed, 25 Apr 2018 14:37:06 GMT   \n",
      "4  5bc90cb9f9af8b0d7fe77cd6         39  Wed, 25 Apr 2018 14:40:34 GMT   \n",
      "\n",
      "                  disconnectTime               doneChargingTime  kWhDelivered  \\\n",
      "0  Wed, 25 Apr 2018 13:20:10 GMT  Wed, 25 Apr 2018 13:21:10 GMT         7.932   \n",
      "1  Thu, 26 Apr 2018 00:56:16 GMT  Wed, 25 Apr 2018 16:44:15 GMT        10.013   \n",
      "2  Wed, 25 Apr 2018 23:04:45 GMT  Wed, 25 Apr 2018 14:51:44 GMT         5.257   \n",
      "3  Wed, 25 Apr 2018 23:55:34 GMT  Wed, 25 Apr 2018 16:05:22 GMT         5.177   \n",
      "4  Wed, 25 Apr 2018 23:03:12 GMT  Wed, 25 Apr 2018 17:40:30 GMT        10.119   \n",
      "\n",
      "                                sessionID  siteID spaceID    stationID  \\\n",
      "0  2_39_78_362_2018-04-25 11:08:04.400812       2  CA-496  2-39-78-362   \n",
      "1   2_39_95_27_2018-04-25 13:45:09.617470       2  CA-319   2-39-95-27   \n",
      "2  2_39_79_380_2018-04-25 13:45:49.962001       2  CA-489  2-39-79-380   \n",
      "3  2_39_79_379_2018-04-25 14:37:06.460772       2  CA-327  2-39-79-379   \n",
      "4  2_39_79_381_2018-04-25 14:40:33.638896       2  CA-490  2-39-79-381   \n",
      "\n",
      "              timezone  userID userInputs  \n",
      "0  America/Los_Angeles     NaN        NaN  \n",
      "1  America/Los_Angeles     NaN        NaN  \n",
      "2  America/Los_Angeles     NaN        NaN  \n",
      "3  America/Los_Angeles     NaN        NaN  \n",
      "4  America/Los_Angeles     NaN        NaN   \n",
      "\n",
      "----- Number of missing values per column -----\n",
      "_id                     0\n",
      "clusterID               0\n",
      "connectionTime          0\n",
      "disconnectTime          0\n",
      "doneChargingTime        4\n",
      "kWhDelivered            0\n",
      "sessionID               0\n",
      "siteID                  0\n",
      "spaceID                 0\n",
      "stationID               0\n",
      "timezone                0\n",
      "userID              11331\n",
      "userInputs          11331\n",
      "dtype: int64 \n",
      "\n",
      "----- Number of duplicated rows: 0 -----\n",
      "\n",
      "----- Column names in the dataset -----\n",
      "['_id', 'clusterID', 'connectionTime', 'disconnectTime', 'doneChargingTime', 'kWhDelivered', 'sessionID', 'siteID', 'spaceID', 'stationID', 'timezone', 'userID', 'userInputs'] \n",
      "\n",
      "----- Number of missing values after type conversions -----\n",
      "_id                     0\n",
      "clusterID               0\n",
      "connectionTime          0\n",
      "disconnectTime          0\n",
      "doneChargingTime        4\n",
      "kWhDelivered            0\n",
      "sessionID               0\n",
      "siteID                  0\n",
      "spaceID                 0\n",
      "stationID               0\n",
      "timezone                0\n",
      "userID              11331\n",
      "userInputs          11331\n",
      "dtype: int64 \n",
      "\n",
      "Number of rows dropped: 0\n",
      "\n",
      "----- Statistical summary of numeric columns -----\n",
      "       clusterID                 connectionTime  \\\n",
      "count    11799.0                          11799   \n",
      "mean        39.0  2018-07-27 15:39:39.524705280   \n",
      "min         39.0            2018-04-25 11:08:04   \n",
      "25%         39.0            2018-06-15 16:00:01   \n",
      "50%         39.0            2018-07-31 17:26:58   \n",
      "75%         39.0            2018-09-08 00:34:47   \n",
      "max         39.0            2018-10-15 14:21:28   \n",
      "std          0.0                            NaN   \n",
      "\n",
      "                      disconnectTime               doneChargingTime  \\\n",
      "count                          11799                          11795   \n",
      "mean   2018-07-27 21:29:36.400034048  2018-07-27 18:56:13.327596288   \n",
      "min              2018-04-25 13:20:10            2018-04-25 13:21:10   \n",
      "25%              2018-06-15 22:20:26            2018-06-15 19:47:46   \n",
      "50%              2018-08-01 00:27:57            2018-07-31 22:57:00   \n",
      "75%              2018-09-08 02:42:08            2018-09-08 02:40:56   \n",
      "max              2018-10-19 08:40:03            2018-10-15 23:49:21   \n",
      "std                              NaN                            NaN   \n",
      "\n",
      "       kWhDelivered   siteID      userID  chargingDuration  powerOutput_kW  \\\n",
      "count  11799.000000  11799.0  468.000000      11799.000000    11799.000000   \n",
      "mean       8.951396      2.0  292.202991          5.832465        2.554898   \n",
      "min        0.501000      2.0    1.000000          0.087500        0.020633   \n",
      "25%        4.169500      2.0  159.000000          1.979167        1.038824   \n",
      "50%        7.561000      2.0  258.500000          4.596667        1.857632   \n",
      "75%       13.204000      2.0  513.000000          8.689306        3.481758   \n",
      "max       69.373000      2.0  781.000000        125.810833       23.482480   \n",
      "std        6.602501      0.0  189.696680          6.088003        1.970257   \n",
      "\n",
      "       connectionHour  connectionHourNormalized  \n",
      "count    11799.000000              11799.000000  \n",
      "mean        12.918552                 11.301466  \n",
      "min          0.000000                  0.000000  \n",
      "25%          5.000000                  7.000000  \n",
      "50%         15.000000                 10.000000  \n",
      "75%         17.000000                 16.000000  \n",
      "max         23.000000                 23.000000  \n",
      "std          7.026979                  4.970541   \n",
      "\n"
     ]
    },
    {
     "data": {
      "image/png": "[encoded data removed]",
      "text/plain": [
       "<Figure size 640x480 with 1 Axes>"
      ]
     },
     "metadata": {},
     "output_type": "display_data"
    },
    {
     "data": {
      "image/png": "[encoded data removed]",
      "text/plain": [
       "<Figure size 640x480 with 1 Axes>"
      ]
     },
     "metadata": {},
     "output_type": "display_data"
    },
    {
     "name": "stdout",
     "output_type": "stream",
     "text": [
      "----- Average Power Output (kW) by Normalized Hour -----\n",
      "connectionHourNormalized\n",
      "0     2.485602\n",
      "1     3.043391\n",
      "2     2.309486\n",
      "3     2.066620\n",
      "4     4.040095\n",
      "5     2.199343\n",
      "6     1.746239\n",
      "7     1.513050\n",
      "8     1.695389\n",
      "9     2.220836\n",
      "10    2.578005\n",
      "11    2.316029\n",
      "12    2.521786\n",
      "13    2.996306\n",
      "14    3.774476\n",
      "15    3.628064\n",
      "16    3.695809\n",
      "17    3.985987\n",
      "18    3.849405\n",
      "19    3.500357\n",
      "20    3.241625\n",
      "21    3.507611\n",
      "22    2.974235\n",
      "23    2.026522\n",
      "Name: powerOutput_kW, dtype: float64 \n",
      "\n"
     ]
    },
    {
     "data": {
      "image/png": "[encoded data removed]",
      "text/plain": [
       "<Figure size 640x480 with 1 Axes>"
      ]
     },
     "metadata": {},
     "output_type": "display_data"
    },
    {
     "name": "stdout",
     "output_type": "stream",
     "text": [
      "----- Correlation matrix of numeric columns -----\n",
      "                          clusterID  kWhDelivered  siteID    userID  \\\n",
      "clusterID                       NaN           NaN     NaN       NaN   \n",
      "kWhDelivered                    NaN      1.000000     NaN -0.070701   \n",
      "siteID                          NaN           NaN     NaN       NaN   \n",
      "userID                          NaN     -0.070701     NaN  1.000000   \n",
      "chargingDuration                NaN      0.282408     NaN -0.030539   \n",
      "powerOutput_kW                  NaN      0.154011     NaN -0.075279   \n",
      "connectionHour                  NaN     -0.065331     NaN  0.031164   \n",
      "connectionHourNormalized        NaN     -0.001497     NaN  0.024550   \n",
      "\n",
      "                          chargingDuration  powerOutput_kW  connectionHour  \\\n",
      "clusterID                              NaN             NaN             NaN   \n",
      "kWhDelivered                      0.282408        0.154011       -0.065331   \n",
      "siteID                                 NaN             NaN             NaN   \n",
      "userID                           -0.030539       -0.075279        0.031164   \n",
      "chargingDuration                  1.000000       -0.496081        0.016038   \n",
      "powerOutput_kW                   -0.496081        1.000000       -0.230242   \n",
      "connectionHour                    0.016038       -0.230242        1.000000   \n",
      "connectionHourNormalized         -0.138087        0.383487       -0.549320   \n",
      "\n",
      "                          connectionHourNormalized  \n",
      "clusterID                                      NaN  \n",
      "kWhDelivered                             -0.001497  \n",
      "siteID                                         NaN  \n",
      "userID                                    0.024550  \n",
      "chargingDuration                         -0.138087  \n",
      "powerOutput_kW                            0.383487  \n",
      "connectionHour                           -0.549320  \n",
      "connectionHourNormalized                  1.000000   \n",
      "\n"
     ]
    },
    {
     "data": {
      "image/png": "[encoded data removed]",
      "text/plain": [
       "<Figure size 800x600 with 2 Axes>"
      ]
     },
     "metadata": {},
     "output_type": "display_data"
    },
    {
     "name": "stdout",
     "output_type": "stream",
     "text": [
      "\n",
      ">>> Data cleaning and descriptive analysis complete <<<\n"
     ]
    }
   ],
   "source": [
    "import pandas as pd\n",
    "import numpy as np\n",
    "import matplotlib.pyplot as plt\n",
    "\n",
    "# 1. File path\n",
    "csv_file_path = \"acndata_sessions.csv\"\n",
    "\n",
    "# 2. Read the CSV into a DataFrame\n",
    "df = pd.read_csv(csv_file_path)\n",
    "\n",
    "# 3. Initial inspection\n",
    "print(\"----- DataFrame shape (rows, columns) -----\")\n",
    "print(df.shape, \"\\n\")\n",
    "\n",
    "print(\"----- DataFrame info -----\")\n",
    "print(df.info(), \"\\n\")\n",
    "\n",
    "print(\"----- First 5 rows -----\")\n",
    "print(df.head(), \"\\n\")\n",
    "\n",
    "# 4. Check for missing values\n",
    "print(\"----- Number of missing values per column -----\")\n",
    "print(df.isna().sum(), \"\\n\")\n",
    "\n",
    "# 5. Check for duplicated rows\n",
    "duplicates = df.duplicated().sum()\n",
    "print(f\"----- Number of duplicated rows: {duplicates} -----\\n\")\n",
    "\n",
    "# (Optional) Remove duplicated rows\n",
    "if duplicates > 0:\n",
    "    df.drop_duplicates(inplace=True)\n",
    "    print(\"Duplicated rows removed.\")\n",
    "    print(f\"New DataFrame shape: {df.shape}\\n\")\n",
    "\n",
    "# 6. Look at column names to understand the dataset\n",
    "print(\"----- Column names in the dataset -----\")\n",
    "print(df.columns.tolist(), \"\\n\")\n",
    "\n",
    "# 7. Convert date/time columns (adjust if your columns differ)\n",
    "date_cols = [\"connectionTime\", \"disconnectTime\", \"doneChargingTime\"]\n",
    "for col in date_cols:\n",
    "    if col in df.columns:\n",
    "        df[col] = pd.to_datetime(df[col], errors=\"coerce\")  # invalid entries -> NaT (Not a Time)\n",
    "\n",
    "# 8. Convert expected numeric columns (e.g., 'kWhDelivered')\n",
    "if \"kWhDelivered\" in df.columns:\n",
    "    df[\"kWhDelivered\"] = pd.to_numeric(df[\"kWhDelivered\"], errors=\"coerce\")\n",
    "\n",
    "# 9. Check missing values again after conversions\n",
    "print(\"----- Number of missing values after type conversions -----\")\n",
    "print(df.isna().sum(), \"\\n\")\n",
    "\n",
    "# 10. Decide how to handle missing values\n",
    "# Example: drop rows where kWhDelivered or connectionTime are missing\n",
    "before_drop = df.shape[0]\n",
    "df.dropna(subset=[\"kWhDelivered\", \"connectionTime\"], inplace=True)\n",
    "after_drop = df.shape[0]\n",
    "print(f\"Number of rows dropped: {before_drop - after_drop}\\n\")\n",
    "\n",
    "# 11. Create a charging duration column in hours (disconnectTime - connectionTime)\n",
    "#    We'll drop or ignore rows where disconnectTime is missing or earlier than connectionTime\n",
    "df[\"chargingDuration\"] = (\n",
    "    (df[\"disconnectTime\"] - df[\"connectionTime\"]).dt.total_seconds() / 3600\n",
    ")\n",
    "\n",
    "# Optionally drop rows where chargingDuration is <= 0 (invalid durations)\n",
    "df = df.dropna(subset=[\"chargingDuration\"])\n",
    "df = df[df[\"chargingDuration\"] > 0]\n",
    "\n",
    "# 12. Calculate new power output (kW)\n",
    "# kWh / hours = kW\n",
    "df[\"powerOutput_kW\"] = df[\"kWhDelivered\"] / df[\"chargingDuration\"]\n",
    "\n",
    "# 13. Normalize the connection hour so that 8:00 -> hour 0\n",
    "# We'll shift hours by subtracting 8, then take modulo 24\n",
    "df[\"connectionHour\"] = df[\"connectionTime\"].dt.hour\n",
    "df[\"connectionHourNormalized\"] = (df[\"connectionHour\"] - 8) % 24\n",
    "\n",
    "# 14. Descriptive statistics for numeric columns\n",
    "print(\"----- Statistical summary of numeric columns -----\")\n",
    "print(df.describe(), \"\\n\")\n",
    "\n",
    "# 15. Distribution plots: for example, powerOutput_kW\n",
    "plt.figure()\n",
    "df[\"powerOutput_kW\"].hist(bins=30)\n",
    "plt.title(\"Distribution of Power Output (kW)\")\n",
    "plt.xlabel(\"kW\")\n",
    "plt.ylabel(\"Frequency\")\n",
    "plt.show()\n",
    "\n",
    "plt.figure()\n",
    "plt.boxplot(df[\"powerOutput_kW\"].dropna())\n",
    "plt.title(\"Boxplot of Power Output (kW)\")\n",
    "plt.ylabel(\"kW\")\n",
    "plt.show()\n",
    "\n",
    "# 16. Simple time-based analysis using the normalized hour\n",
    "mean_power_per_hour = df.groupby(\"connectionHourNormalized\")[\"powerOutput_kW\"].mean()\n",
    "print(\"----- Average Power Output (kW) by Normalized Hour -----\")\n",
    "print(mean_power_per_hour, \"\\n\")\n",
    "\n",
    "# Visualization\n",
    "plt.figure()\n",
    "mean_power_per_hour.plot(kind=\"bar\")\n",
    "plt.title(\"Average Power Output by Normalized Hour (8:00 -> 0)\")\n",
    "plt.xlabel(\"Normalized Hour (0 = 8 AM)\")\n",
    "plt.ylabel(\"Average kW\")\n",
    "plt.tight_layout()\n",
    "plt.show()\n",
    "\n",
    "# 17. (Optional) Correlation matrix (including the new columns)\n",
    "num_cols = df.select_dtypes(include=[np.number]).columns\n",
    "corr_matrix = df[num_cols].corr()\n",
    "print(\"----- Correlation matrix of numeric columns -----\")\n",
    "print(corr_matrix, \"\\n\")\n",
    "\n",
    "plt.figure(figsize=(8, 6))\n",
    "plt.imshow(corr_matrix, cmap=\"viridis\", interpolation=\"nearest\")\n",
    "plt.colorbar(label=\"Correlation Coefficient\")\n",
    "plt.xticks(range(len(num_cols)), num_cols, rotation=90)\n",
    "plt.yticks(range(len(num_cols)), num_cols)\n",
    "plt.title(\"Correlation Heatmap\")\n",
    "plt.tight_layout()\n",
    "plt.show()\n",
    "\n",
    "print(\"\\n>>> Data cleaning and descriptive analysis complete <<<\")\n"
   ]
  },
  {
   "cell_type": "code",
   "execution_count": null,
   "metadata": {},
   "outputs": [],
   "source": []
  },
  {
   "cell_type": "code",
   "execution_count": null,
   "metadata": {},
   "outputs": [],
   "source": []
  },
  {
   "cell_type": "code",
   "execution_count": null,
   "metadata": {},
   "outputs": [],
   "source": []
  },
  {
   "cell_type": "code",
   "execution_count": null,
   "metadata": {},
   "outputs": [],
   "source": []
  }
 ],
 "metadata": {
  "kernelspec": {
   "display_name": "SEN122A",
   "language": "python",
   "name": "python3"
  },
  "language_info": {
   "codemirror_mode": {
    "name": "ipython",
    "version": 3
   },
   "file_extension": ".py",
   "mimetype": "text/x-python",
   "name": "python",
   "nbconvert_exporter": "python",
   "pygments_lexer": "ipython3",
   "version": "3.12.7"
  }
 },
 "nbformat": 4,
 "nbformat_minor": 2
}
