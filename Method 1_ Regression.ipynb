{
 "cells": [
  {
   "metadata": {
    "ExecuteTime": {
     "end_time": "2025-03-19T13:56:43.285688Z",
     "start_time": "2025-03-19T13:56:29.173755Z"
    }
   },
   "cell_type": "code",
   "source": [
    "import pandas as pd\n",
    "\n",
    "# Define the file path\n",
    "file_path = \"acndata_sessions.csv\"\n",
    "\n",
    "# Load the CSV file into a Pandas DataFrame\n",
    "df = pd.read_csv(file_path)\n",
    "\n",
    "# Display the first few rows of the DataFrame\n",
    "print(df.head())\n"
   ],
   "id": "ced08ca8cf19aed",
   "outputs": [
    {
     "name": "stdout",
     "output_type": "stream",
     "text": [
      "                        _id  clusterID                 connectionTime  \\\n",
      "0  5bc90cb9f9af8b0d7fe77cd2         39  Wed, 25 Apr 2018 11:08:04 GMT   \n",
      "1  5bc90cb9f9af8b0d7fe77cd3         39  Wed, 25 Apr 2018 13:45:10 GMT   \n",
      "2  5bc90cb9f9af8b0d7fe77cd4         39  Wed, 25 Apr 2018 13:45:50 GMT   \n",
      "3  5bc90cb9f9af8b0d7fe77cd5         39  Wed, 25 Apr 2018 14:37:06 GMT   \n",
      "4  5bc90cb9f9af8b0d7fe77cd6         39  Wed, 25 Apr 2018 14:40:34 GMT   \n",
      "\n",
      "                  disconnectTime               doneChargingTime  kWhDelivered  \\\n",
      "0  Wed, 25 Apr 2018 13:20:10 GMT  Wed, 25 Apr 2018 13:21:10 GMT         7.932   \n",
      "1  Thu, 26 Apr 2018 00:56:16 GMT  Wed, 25 Apr 2018 16:44:15 GMT        10.013   \n",
      "2  Wed, 25 Apr 2018 23:04:45 GMT  Wed, 25 Apr 2018 14:51:44 GMT         5.257   \n",
      "3  Wed, 25 Apr 2018 23:55:34 GMT  Wed, 25 Apr 2018 16:05:22 GMT         5.177   \n",
      "4  Wed, 25 Apr 2018 23:03:12 GMT  Wed, 25 Apr 2018 17:40:30 GMT        10.119   \n",
      "\n",
      "                                sessionID  siteID spaceID    stationID  \\\n",
      "0  2_39_78_362_2018-04-25 11:08:04.400812       2  CA-496  2-39-78-362   \n",
      "1   2_39_95_27_2018-04-25 13:45:09.617470       2  CA-319   2-39-95-27   \n",
      "2  2_39_79_380_2018-04-25 13:45:49.962001       2  CA-489  2-39-79-380   \n",
      "3  2_39_79_379_2018-04-25 14:37:06.460772       2  CA-327  2-39-79-379   \n",
      "4  2_39_79_381_2018-04-25 14:40:33.638896       2  CA-490  2-39-79-381   \n",
      "\n",
      "              timezone  userID userInputs  \n",
      "0  America/Los_Angeles     NaN        NaN  \n",
      "1  America/Los_Angeles     NaN        NaN  \n",
      "2  America/Los_Angeles     NaN        NaN  \n",
      "3  America/Los_Angeles     NaN        NaN  \n",
      "4  America/Los_Angeles     NaN        NaN  \n"
     ]
    }
   ],
   "execution_count": 1
  },
  {
   "cell_type": "code",
   "id": "initial_id",
   "metadata": {
    "collapsed": true,
    "ExecuteTime": {
     "end_time": "2025-03-19T13:24:25.010856Z",
     "start_time": "2025-03-19T13:24:25.009342Z"
    }
   },
   "source": "",
   "outputs": [],
   "execution_count": 8
  },
  {
   "metadata": {
    "ExecuteTime": {
     "end_time": "2025-03-19T13:24:25.018083Z",
     "start_time": "2025-03-19T13:24:25.015679Z"
    }
   },
   "cell_type": "code",
   "source": "",
   "id": "c426e3294295386c",
   "outputs": [],
   "execution_count": 8
  },
  {
   "metadata": {
    "ExecuteTime": {
     "end_time": "2025-03-19T13:24:25.025632Z",
     "start_time": "2025-03-19T13:24:25.023723Z"
    }
   },
   "cell_type": "code",
   "source": "",
   "id": "67cc901c1a7ada0e",
   "outputs": [],
   "execution_count": 8
  },
  {
   "metadata": {
    "ExecuteTime": {
     "end_time": "2025-03-19T13:24:25.029055Z",
     "start_time": "2025-03-19T13:24:25.027405Z"
    }
   },
   "cell_type": "code",
   "source": "",
   "id": "8bfa0a6d0d8a8c4e",
   "outputs": [],
   "execution_count": 8
  },
  {
   "metadata": {
    "ExecuteTime": {
     "end_time": "2025-03-19T13:24:25.033681Z",
     "start_time": "2025-03-19T13:24:25.031956Z"
    }
   },
   "cell_type": "code",
   "source": "",
   "id": "cc9fa9a7586ad05c",
   "outputs": [],
   "execution_count": 8
  },
  {
   "metadata": {
    "ExecuteTime": {
     "end_time": "2025-03-19T13:24:25.036917Z",
     "start_time": "2025-03-19T13:24:25.035518Z"
    }
   },
   "cell_type": "code",
   "source": "",
   "id": "e30b36655df7dd90",
   "outputs": [],
   "execution_count": 8
  },
  {
   "metadata": {
    "ExecuteTime": {
     "end_time": "2025-03-19T13:24:25.039277Z",
     "start_time": "2025-03-19T13:24:25.037661Z"
    }
   },
   "cell_type": "code",
   "source": "",
   "id": "14933d0a72d0d4c",
   "outputs": [],
   "execution_count": 8
  },
  {
   "metadata": {
    "ExecuteTime": {
     "end_time": "2025-03-19T13:24:25.042812Z",
     "start_time": "2025-03-19T13:24:25.041245Z"
    }
   },
   "cell_type": "code",
   "source": "",
   "id": "4c818cf3d1d36472",
   "outputs": [],
   "execution_count": 8
  },
  {
   "metadata": {
    "ExecuteTime": {
     "end_time": "2025-03-19T13:24:25.044698Z",
     "start_time": "2025-03-19T13:24:25.043378Z"
    }
   },
   "cell_type": "code",
   "source": "",
   "id": "d78b981f6d5531ed",
   "outputs": [],
   "execution_count": 8
  }
 ],
 "metadata": {
  "kernelspec": {
   "display_name": "Python 3",
   "language": "python",
   "name": "python3"
  },
  "language_info": {
   "codemirror_mode": {
    "name": "ipython",
    "version": 2
   },
   "file_extension": ".py",
   "mimetype": "text/x-python",
   "name": "python",
   "nbconvert_exporter": "python",
   "pygments_lexer": "ipython2",
   "version": "2.7.6"
  }
 },
 "nbformat": 4,
 "nbformat_minor": 5
}
