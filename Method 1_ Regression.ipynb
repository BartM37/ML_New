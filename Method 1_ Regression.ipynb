{
 "cells": [
  {
   "cell_type": "code",
   "execution_count": 1,
   "id": "ced08ca8cf19aed",
   "metadata": {
    "ExecuteTime": {
     "end_time": "2025-03-19T13:16:02.125999Z",
     "start_time": "2025-03-19T13:16:02.124481Z"
    }
   },
   "outputs": [
    {
     "data": {
      "text/html": [
       "<div>\n",
       "<style scoped>\n",
       "    .dataframe tbody tr th:only-of-type {\n",
       "        vertical-align: middle;\n",
       "    }\n",
       "\n",
       "    .dataframe tbody tr th {\n",
       "        vertical-align: top;\n",
       "    }\n",
       "\n",
       "    .dataframe thead th {\n",
       "        text-align: right;\n",
       "    }\n",
       "</style>\n",
       "<table border=\"1\" class=\"dataframe\">\n",
       "  <thead>\n",
       "    <tr style=\"text-align: right;\">\n",
       "      <th></th>\n",
       "      <th>_id</th>\n",
       "      <th>clusterID</th>\n",
       "      <th>connectionTime</th>\n",
       "      <th>disconnectTime</th>\n",
       "      <th>doneChargingTime</th>\n",
       "      <th>kWhDelivered</th>\n",
       "      <th>sessionID</th>\n",
       "      <th>siteID</th>\n",
       "      <th>spaceID</th>\n",
       "      <th>stationID</th>\n",
       "      <th>timezone</th>\n",
       "      <th>userID</th>\n",
       "      <th>userInputs</th>\n",
       "    </tr>\n",
       "  </thead>\n",
       "  <tbody>\n",
       "    <tr>\n",
       "      <th>0</th>\n",
       "      <td>5bc90cb9f9af8b0d7fe77cd2</td>\n",
       "      <td>39</td>\n",
       "      <td>Wed, 25 Apr 2018 11:08:04 GMT</td>\n",
       "      <td>Wed, 25 Apr 2018 13:20:10 GMT</td>\n",
       "      <td>Wed, 25 Apr 2018 13:21:10 GMT</td>\n",
       "      <td>7.932</td>\n",
       "      <td>2_39_78_362_2018-04-25 11:08:04.400812</td>\n",
       "      <td>2</td>\n",
       "      <td>CA-496</td>\n",
       "      <td>2-39-78-362</td>\n",
       "      <td>America/Los_Angeles</td>\n",
       "      <td>NaN</td>\n",
       "      <td>NaN</td>\n",
       "    </tr>\n",
       "    <tr>\n",
       "      <th>1</th>\n",
       "      <td>5bc90cb9f9af8b0d7fe77cd3</td>\n",
       "      <td>39</td>\n",
       "      <td>Wed, 25 Apr 2018 13:45:10 GMT</td>\n",
       "      <td>Thu, 26 Apr 2018 00:56:16 GMT</td>\n",
       "      <td>Wed, 25 Apr 2018 16:44:15 GMT</td>\n",
       "      <td>10.013</td>\n",
       "      <td>2_39_95_27_2018-04-25 13:45:09.617470</td>\n",
       "      <td>2</td>\n",
       "      <td>CA-319</td>\n",
       "      <td>2-39-95-27</td>\n",
       "      <td>America/Los_Angeles</td>\n",
       "      <td>NaN</td>\n",
       "      <td>NaN</td>\n",
       "    </tr>\n",
       "    <tr>\n",
       "      <th>2</th>\n",
       "      <td>5bc90cb9f9af8b0d7fe77cd4</td>\n",
       "      <td>39</td>\n",
       "      <td>Wed, 25 Apr 2018 13:45:50 GMT</td>\n",
       "      <td>Wed, 25 Apr 2018 23:04:45 GMT</td>\n",
       "      <td>Wed, 25 Apr 2018 14:51:44 GMT</td>\n",
       "      <td>5.257</td>\n",
       "      <td>2_39_79_380_2018-04-25 13:45:49.962001</td>\n",
       "      <td>2</td>\n",
       "      <td>CA-489</td>\n",
       "      <td>2-39-79-380</td>\n",
       "      <td>America/Los_Angeles</td>\n",
       "      <td>NaN</td>\n",
       "      <td>NaN</td>\n",
       "    </tr>\n",
       "    <tr>\n",
       "      <th>3</th>\n",
       "      <td>5bc90cb9f9af8b0d7fe77cd5</td>\n",
       "      <td>39</td>\n",
       "      <td>Wed, 25 Apr 2018 14:37:06 GMT</td>\n",
       "      <td>Wed, 25 Apr 2018 23:55:34 GMT</td>\n",
       "      <td>Wed, 25 Apr 2018 16:05:22 GMT</td>\n",
       "      <td>5.177</td>\n",
       "      <td>2_39_79_379_2018-04-25 14:37:06.460772</td>\n",
       "      <td>2</td>\n",
       "      <td>CA-327</td>\n",
       "      <td>2-39-79-379</td>\n",
       "      <td>America/Los_Angeles</td>\n",
       "      <td>NaN</td>\n",
       "      <td>NaN</td>\n",
       "    </tr>\n",
       "    <tr>\n",
       "      <th>4</th>\n",
       "      <td>5bc90cb9f9af8b0d7fe77cd6</td>\n",
       "      <td>39</td>\n",
       "      <td>Wed, 25 Apr 2018 14:40:34 GMT</td>\n",
       "      <td>Wed, 25 Apr 2018 23:03:12 GMT</td>\n",
       "      <td>Wed, 25 Apr 2018 17:40:30 GMT</td>\n",
       "      <td>10.119</td>\n",
       "      <td>2_39_79_381_2018-04-25 14:40:33.638896</td>\n",
       "      <td>2</td>\n",
       "      <td>CA-490</td>\n",
       "      <td>2-39-79-381</td>\n",
       "      <td>America/Los_Angeles</td>\n",
       "      <td>NaN</td>\n",
       "      <td>NaN</td>\n",
       "    </tr>\n",
       "  </tbody>\n",
       "</table>\n",
       "</div>"
      ],
      "text/plain": [
       "                        _id  clusterID                 connectionTime  \\\n",
       "0  5bc90cb9f9af8b0d7fe77cd2         39  Wed, 25 Apr 2018 11:08:04 GMT   \n",
       "1  5bc90cb9f9af8b0d7fe77cd3         39  Wed, 25 Apr 2018 13:45:10 GMT   \n",
       "2  5bc90cb9f9af8b0d7fe77cd4         39  Wed, 25 Apr 2018 13:45:50 GMT   \n",
       "3  5bc90cb9f9af8b0d7fe77cd5         39  Wed, 25 Apr 2018 14:37:06 GMT   \n",
       "4  5bc90cb9f9af8b0d7fe77cd6         39  Wed, 25 Apr 2018 14:40:34 GMT   \n",
       "\n",
       "                  disconnectTime               doneChargingTime  kWhDelivered  \\\n",
       "0  Wed, 25 Apr 2018 13:20:10 GMT  Wed, 25 Apr 2018 13:21:10 GMT         7.932   \n",
       "1  Thu, 26 Apr 2018 00:56:16 GMT  Wed, 25 Apr 2018 16:44:15 GMT        10.013   \n",
       "2  Wed, 25 Apr 2018 23:04:45 GMT  Wed, 25 Apr 2018 14:51:44 GMT         5.257   \n",
       "3  Wed, 25 Apr 2018 23:55:34 GMT  Wed, 25 Apr 2018 16:05:22 GMT         5.177   \n",
       "4  Wed, 25 Apr 2018 23:03:12 GMT  Wed, 25 Apr 2018 17:40:30 GMT        10.119   \n",
       "\n",
       "                                sessionID  siteID spaceID    stationID  \\\n",
       "0  2_39_78_362_2018-04-25 11:08:04.400812       2  CA-496  2-39-78-362   \n",
       "1   2_39_95_27_2018-04-25 13:45:09.617470       2  CA-319   2-39-95-27   \n",
       "2  2_39_79_380_2018-04-25 13:45:49.962001       2  CA-489  2-39-79-380   \n",
       "3  2_39_79_379_2018-04-25 14:37:06.460772       2  CA-327  2-39-79-379   \n",
       "4  2_39_79_381_2018-04-25 14:40:33.638896       2  CA-490  2-39-79-381   \n",
       "\n",
       "              timezone  userID userInputs  \n",
       "0  America/Los_Angeles     NaN        NaN  \n",
       "1  America/Los_Angeles     NaN        NaN  \n",
       "2  America/Los_Angeles     NaN        NaN  \n",
       "3  America/Los_Angeles     NaN        NaN  \n",
       "4  America/Los_Angeles     NaN        NaN  "
      ]
     },
     "execution_count": 1,
     "metadata": {},
     "output_type": "execute_result"
    }
   ],
   "source": [
    "import pandas as pd\n",
    "\n",
    "# Replace 'my_data.csv' with your CSV file path or URL\n",
    "csv_file_path = 'acndata_sessions.csv'\n",
    "\n",
    "# Read the CSV into a DataFrame\n",
    "df = pd.read_csv(csv_file_path)\n",
    "\n",
    "# Print the first 5 rows\n",
    "df.head()"
   ]
  },
  {
   "cell_type": "code",
   "execution_count": 2,
   "id": "initial_id",
   "metadata": {
    "ExecuteTime": {
     "end_time": "2025-03-19T13:16:02.181958Z",
     "start_time": "2025-03-19T13:16:02.127053Z"
    },
    "collapsed": true
   },
   "outputs": [
    {
     "name": "stdout",
     "output_type": "stream",
     "text": [
      "=== Model Evaluation ===\n",
      "Mean Squared Error (MSE): 33.293\n",
      "R-squared (R²):         0.090\n",
      "========================\n",
      "\n",
      "=== Model Coefficients ===\n",
      "Coefficient for connected_duration_hours: 0.296\n",
      "Intercept:                                 7.294\n"
     ]
    }
   ],
   "source": [
    "import pandas as pd\n",
    "from sklearn.model_selection import train_test_split\n",
    "from sklearn.linear_model import LinearRegression\n",
    "from sklearn.metrics import mean_squared_error, r2_score\n",
    "\n",
    "# 1. Load your DataFrame (assuming you've already loaded it into 'df')\n",
    "# df = pd.read_csv('your_data.csv')  # Example if starting from CSV\n",
    "\n",
    "# 2. Convert time columns to datetime\n",
    "df['connectionTime'] = pd.to_datetime(df['connectionTime'],\n",
    "                                      format='%a, %d %b %Y %H:%M:%S GMT',\n",
    "                                      errors='coerce')\n",
    "df['disconnectTime'] = pd.to_datetime(df['disconnectTime'],\n",
    "                                      format='%a, %d %b %Y %H:%M:%S GMT',\n",
    "                                      errors='coerce')\n",
    "\n",
    "# 3. Create a numeric feature: total connected duration (hours)\n",
    "df['connected_duration_hours'] = (df['disconnectTime'] - df['connectionTime']).dt.total_seconds() / 3600\n",
    "\n",
    "# 4. Define features (X) and target (y)\n",
    "X = df[['connected_duration_hours']]  # You could add more features here\n",
    "y = df['kWhDelivered']\n",
    "\n",
    "# 5. Split into training and testing sets\n",
    "# Adjust test_size or random_state as needed\n",
    "X_train, X_test, y_train, y_test = train_test_split(\n",
    "    X, y, test_size=0.2, random_state=42\n",
    ")\n",
    "\n",
    "# 6. Initialize and train a linear regression model\n",
    "model = LinearRegression()\n",
    "model.fit(X_train, y_train)\n",
    "\n",
    "# 7. Make predictions on the test set\n",
    "y_pred = model.predict(X_test)\n",
    "\n",
    "# 8. Evaluate the model\n",
    "mse = mean_squared_error(y_test, y_pred)\n",
    "r2 = r2_score(y_test, y_pred)\n",
    "\n",
    "print(\"=== Model Evaluation ===\")\n",
    "print(f\"Mean Squared Error (MSE): {mse:.3f}\")\n",
    "print(f\"R-squared (R²):         {r2:.3f}\")\n",
    "print(\"========================\\n\")\n",
    "\n",
    "print(\"=== Model Coefficients ===\")\n",
    "print(f\"Coefficient for connected_duration_hours: {model.coef_[0]:.3f}\")\n",
    "print(f\"Intercept:                                 {model.intercept_:.3f}\")"
   ]
  },
  {
   "cell_type": "code",
   "execution_count": 3,
   "id": "c426e3294295386c",
   "metadata": {
    "ExecuteTime": {
     "end_time": "2025-03-19T13:16:02.184804Z",
     "start_time": "2025-03-19T13:16:02.182660Z"
    }
   },
   "outputs": [
    {
     "data": {
      "image/png": "[encoded data removed]",
      "text/plain": [
       "<Figure size 800x600 with 1 Axes>"
      ]
     },
     "metadata": {},
     "output_type": "display_data"
    }
   ],
   "source": [
    "import matplotlib.pyplot as plt\n",
    "import numpy as np\n",
    "\n",
    "# After training your model (see the previous code snippet):\n",
    "# model = LinearRegression()\n",
    "# model.fit(X_train, y_train)\n",
    "\n",
    "# 1. Predict on the test set\n",
    "y_pred = model.predict(X_test)\n",
    "\n",
    "# 2. Create a scatter plot for the actual test data\n",
    "plt.figure(figsize=(8, 6))\n",
    "plt.scatter(X_test['connected_duration_hours'], y_test, color='blue', label='Actual data')\n",
    "\n",
    "# 3. Sort the test set by 'connected_duration_hours' so we can draw a proper line\n",
    "X_test_sorted = X_test.sort_values(by='connected_duration_hours')\n",
    "y_pred_sorted = model.predict(X_test_sorted)\n",
    "\n",
    "# 4. Plot the regression line\n",
    "plt.plot(X_test_sorted['connected_duration_hours'], y_pred_sorted, color='red', linewidth=2, label='Predicted regression line')\n",
    "\n",
    "# 5. Label the axes and add a title\n",
    "plt.xlabel('Connected Duration (hours)')\n",
    "plt.ylabel('kWh Delivered')\n",
    "plt.title('Linear Regression: kWh Delivered vs. Connected Duration')\n",
    "plt.legend()\n",
    "plt.grid(True)\n",
    "\n",
    "# 6. Display the plot\n",
    "plt.show()"
   ]
  },
  {
   "cell_type": "code",
   "execution_count": null,
   "id": "67cc901c1a7ada0e",
   "metadata": {
    "ExecuteTime": {
     "end_time": "2025-03-19T13:16:02.901625Z",
     "start_time": "2025-03-19T13:16:02.186009Z"
    }
   },
   "outputs": [],
   "source": []
  },
  {
   "cell_type": "code",
   "execution_count": null,
   "id": "8bfa0a6d0d8a8c4e",
   "metadata": {
    "ExecuteTime": {
     "end_time": "2025-03-19T13:16:03.756239Z",
     "start_time": "2025-03-19T13:16:02.904240Z"
    }
   },
   "outputs": [],
   "source": [
    "\n"
   ]
  },
  {
   "cell_type": "code",
   "execution_count": null,
   "id": "cc9fa9a7586ad05c",
   "metadata": {
    "ExecuteTime": {
     "end_time": "2025-03-19T13:16:04.615291Z",
     "start_time": "2025-03-19T13:16:03.757158Z"
    }
   },
   "outputs": [],
   "source": [
    "\n"
   ]
  },
  {
   "cell_type": "code",
   "execution_count": null,
   "id": "e30b36655df7dd90",
   "metadata": {
    "ExecuteTime": {
     "end_time": "2025-03-19T13:16:05.413481Z",
     "start_time": "2025-03-19T13:16:04.616085Z"
    }
   },
   "outputs": [],
   "source": [
    "\n"
   ]
  },
  {
   "cell_type": "code",
   "execution_count": null,
   "id": "14933d0a72d0d4c",
   "metadata": {
    "ExecuteTime": {
     "end_time": "2025-03-19T13:16:06.238987Z",
     "start_time": "2025-03-19T13:16:05.415029Z"
    }
   },
   "outputs": [],
   "source": [
    "\n"
   ]
  },
  {
   "cell_type": "code",
   "execution_count": null,
   "id": "4c818cf3d1d36472",
   "metadata": {
    "ExecuteTime": {
     "end_time": "2025-03-19T13:16:29.711979Z",
     "start_time": "2025-03-19T13:16:29.710072Z"
    }
   },
   "outputs": [],
   "source": []
  },
  {
   "cell_type": "code",
   "execution_count": null,
   "id": "d78b981f6d5531ed",
   "metadata": {},
   "outputs": [],
   "source": []
  }
 ],
 "metadata": {
  "kernelspec": {
   "display_name": "TIL6022",
   "language": "python",
   "name": "python3"
  },
  "language_info": {
   "codemirror_mode": {
    "name": "ipython",
    "version": 3
   },
   "file_extension": ".py",
   "mimetype": "text/x-python",
   "name": "python",
   "nbconvert_exporter": "python",
   "pygments_lexer": "ipython3",
   "version": "3.12.5"
  }
 },
 "nbformat": 4,
 "nbformat_minor": 5
}
