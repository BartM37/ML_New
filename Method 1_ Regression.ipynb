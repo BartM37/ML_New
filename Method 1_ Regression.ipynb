{
 "cells": [
  {
   "metadata": {
    "ExecuteTime": {
     "end_time": "2025-03-19T13:24:25.007866Z",
     "start_time": "2025-03-19T13:24:25.004465Z"
    }
   },
   "cell_type": "code",
   "source": "",
   "id": "ced08ca8cf19aed",
   "outputs": [],
   "execution_count": 8
  },
  {
   "cell_type": "code",
   "id": "initial_id",
   "metadata": {
    "collapsed": true,
    "ExecuteTime": {
     "end_time": "2025-03-19T13:24:25.010856Z",
     "start_time": "2025-03-19T13:24:25.009342Z"
    }
   },
   "source": "",
   "outputs": [],
   "execution_count": 8
  },
  {
   "metadata": {
    "ExecuteTime": {
     "end_time": "2025-03-19T13:24:25.018083Z",
     "start_time": "2025-03-19T13:24:25.015679Z"
    }
   },
   "cell_type": "code",
   "source": "",
   "id": "c426e3294295386c",
   "outputs": [],
   "execution_count": 8
  },
  {
   "metadata": {
    "ExecuteTime": {
     "end_time": "2025-03-19T13:24:25.025632Z",
     "start_time": "2025-03-19T13:24:25.023723Z"
    }
   },
   "cell_type": "code",
   "source": "",
   "id": "67cc901c1a7ada0e",
   "outputs": [],
   "execution_count": 8
  },
  {
   "metadata": {
    "ExecuteTime": {
     "end_time": "2025-03-19T13:24:25.029055Z",
     "start_time": "2025-03-19T13:24:25.027405Z"
    }
   },
   "cell_type": "code",
   "source": "",
   "id": "8bfa0a6d0d8a8c4e",
   "outputs": [],
   "execution_count": 8
  },
  {
   "metadata": {
    "ExecuteTime": {
     "end_time": "2025-03-19T13:24:25.033681Z",
     "start_time": "2025-03-19T13:24:25.031956Z"
    }
   },
   "cell_type": "code",
   "source": "",
   "id": "cc9fa9a7586ad05c",
   "outputs": [],
   "execution_count": 8
  },
  {
   "metadata": {
    "ExecuteTime": {
     "end_time": "2025-03-19T13:24:25.036917Z",
     "start_time": "2025-03-19T13:24:25.035518Z"
    }
   },
   "cell_type": "code",
   "source": "",
   "id": "e30b36655df7dd90",
   "outputs": [],
   "execution_count": 8
  },
  {
   "metadata": {
    "ExecuteTime": {
     "end_time": "2025-03-19T13:24:25.039277Z",
     "start_time": "2025-03-19T13:24:25.037661Z"
    }
   },
   "cell_type": "code",
   "source": "",
   "id": "14933d0a72d0d4c",
   "outputs": [],
   "execution_count": 8
  },
  {
   "metadata": {
    "ExecuteTime": {
     "end_time": "2025-03-19T13:24:25.042812Z",
     "start_time": "2025-03-19T13:24:25.041245Z"
    }
   },
   "cell_type": "code",
   "source": "",
   "id": "4c818cf3d1d36472",
   "outputs": [],
   "execution_count": 8
  },
  {
   "metadata": {
    "ExecuteTime": {
     "end_time": "2025-03-19T13:24:25.044698Z",
     "start_time": "2025-03-19T13:24:25.043378Z"
    }
   },
   "cell_type": "code",
   "source": "",
   "id": "d78b981f6d5531ed",
   "outputs": [],
   "execution_count": 8
  }
 ],
 "metadata": {
  "kernelspec": {
   "display_name": "Python 3",
   "language": "python",
   "name": "python3"
  },
  "language_info": {
   "codemirror_mode": {
    "name": "ipython",
    "version": 2
   },
   "file_extension": ".py",
   "mimetype": "text/x-python",
   "name": "python",
   "nbconvert_exporter": "python",
   "pygments_lexer": "ipython2",
   "version": "2.7.6"
  }
 },
 "nbformat": 4,
 "nbformat_minor": 5
}
