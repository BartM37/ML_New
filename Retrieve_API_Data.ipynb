{
 "cells": [
  {
   "metadata": {
    "ExecuteTime": {
     "end_time": "2025-04-09T08:07:33.173926Z",
     "start_time": "2025-04-09T08:07:33.172571Z"
    }
   },
   "cell_type": "code",
   "source": [
    "! pip install request\n",
    "! pip install json \n",
    "! pip install os"
   ],
   "id": "627583781fb5f6e0",
   "outputs": [],
   "execution_count": null
  },
  {
   "metadata": {
    "ExecuteTime": {
     "end_time": "2025-04-09T08:39:51.029057Z",
     "start_time": "2025-04-09T08:39:51.023788Z"
    }
   },
   "cell_type": "code",
   "source": "",
   "id": "9afcddf23979591d",
   "outputs": [],
   "execution_count": 6
  },
  {
   "metadata": {
    "ExecuteTime": {
     "end_time": "2025-04-09T08:39:51.423579Z",
     "start_time": "2025-04-09T08:39:51.421297Z"
    }
   },
   "cell_type": "code",
   "source": "",
   "id": "d1dbe0c97bbc4a70",
   "outputs": [],
   "execution_count": 6
  },
  {
   "metadata": {
    "ExecuteTime": {
     "end_time": "2025-04-09T09:14:59.296962Z",
     "start_time": "2025-04-09T09:14:58.823988Z"
    }
   },
   "cell_type": "code",
   "source": [
    "import requests\n",
    "import json\n",
    "import os\n",
    "\n",
    "# Replace with your ACN-Data API token\n",
    "TOKEN = \"Dqj06kuBFgUFcD0gxSQ3Mr1FtP5lPNFJJJJr9DVyhFg\"\n",
    "\n",
    "# Example site ID\n",
    "site_id = \"caltech\"\n",
    "\n",
    "# Directory and filename where we'll save the filtered JSON\n",
    "save_directory = \"/Users/huibvanderveen/Desktop/Pycharm Projects/ML_New/YEAR\"\n",
    "os.makedirs(save_directory, exist_ok=True)\n",
    "save_path = os.path.join(save_directory, \"sessions_filtered_2017.json\")\n",
    "\n",
    "# Set up an authenticated session (token as username, empty password)\n",
    "session = requests.Session()\n",
    "session.auth = (TOKEN, \"\")\n",
    "\n",
    "# Filtering on date range:\n",
    "# We will include &page=X for pagination\n",
    "base_filter_url = (\n",
    "    f\"https://ev.caltech.edu/api/v1/sessions/{site_id}?\"\n",
    "    'where=connectionTime>=\"Sun, 1 Jan 2017 00:00:00 GMT\" '\n",
    "    'and connectionTime<=\"Sun, 31 Dec 2017 00:00:00 GMT\"'\n",
    "    \"&pretty\"\n",
    ")\n",
    "\n",
    "# The fields you want to keep from each session\n",
    "wanted_keys = [\n",
    "    \"_id\", \"clusterID\", \"connectionTime\", \"disconnectTime\", \"doneChargingTime\",\n",
    "    \"kWhDelivered\", \"sessionID\", \"siteID\", \"spaceID\", \"stationID\", \n",
    "    \"timezone\", \"userID\", \"userInputs\"\n",
    "]\n",
    "\n",
    "# We'll accumulate all items from all pages here\n",
    "all_items = []\n",
    "\n",
    "page = 1\n",
    "while True:\n",
    "    # Build the URL with the desired page\n",
    "    url = f\"{base_filter_url}&page={page}\"\n",
    "\n",
    "    # Make the request\n",
    "    response = session.get(url)\n",
    "    if response.status_code != 200:\n",
    "        print(f\"Request failed on page {page} with status code {response.status_code}: {response.text}\")\n",
    "        break\n",
    "\n",
    "    data = response.json()\n",
    "\n",
    "    # Filter each item to keep only wanted keys\n",
    "    items_this_page = []\n",
    "    for item in data.get(\"_items\", []):\n",
    "        filtered_item = {k: item.get(k) for k in wanted_keys}\n",
    "        items_this_page.append(filtered_item)\n",
    "\n",
    "    # Add this page's items to the master list\n",
    "    all_items.extend(items_this_page)\n",
    "\n",
    "    # Check if there's a \"next\" link\n",
    "    links = data.get(\"_links\", {})\n",
    "    next_link = links.get(\"next\")\n",
    "    if not next_link:\n",
    "        # No more pages\n",
    "        break\n",
    "\n",
    "    # Move to the next page\n",
    "    page += 1\n",
    "\n",
    "# Prepare the final JSON structure\n",
    "final_data = {\n",
    "    \"_items\": all_items,\n",
    "    # Optionally keep just top-level metadata from the last request\n",
    "    \"_links\": data.get(\"_links\", {}),\n",
    "    \"_meta\": data.get(\"_meta\", {})\n",
    "}\n",
    "\n",
    "# Save the filtered data to JSON\n",
    "with open(save_path, \"w\") as f:\n",
    "    json.dump(final_data, f, indent=4)\n",
    "\n",
    "print(f\"Retrieved a total of {len(all_items)} items across all pages.\")\n",
    "print(f\"Filtered 2017 sessions saved to: {save_path}\")\n"
   ],
   "id": "de2796c47ff6277d",
   "outputs": [
    {
     "name": "stdout",
     "output_type": "stream",
     "text": [
      "Retrieved a total of 0 items across all pages.\n",
      "Filtered 2017 sessions saved to: /Users/huibvanderveen/Desktop/Pycharm Projects/ML_New/YEAR/sessions_filtered_2017.json\n"
     ]
    }
   ],
   "execution_count": 21
  },
  {
   "metadata": {
    "ExecuteTime": {
     "end_time": "2025-04-09T09:07:55.661088Z",
     "start_time": "2025-04-09T09:07:55.605103Z"
    }
   },
   "cell_type": "code",
   "source": [
    "import json\n",
    "import pandas as pd\n",
    "import os\n",
    "\n",
    "# Paths (adjust as needed)\n",
    "load_directory = \"/Users/huibvanderveen/Desktop/Pycharm Projects/ML_New/YEAR\"\n",
    "json_filename = \"sessions_filtered_2021.json\"\n",
    "csv_filename = \"sessions_filtered_2021.csv\"\n",
    "\n",
    "json_path = os.path.join(load_directory, json_filename)\n",
    "csv_path = os.path.join(load_directory, csv_filename)\n",
    "\n",
    "# Load the existing JSON file\n",
    "with open(json_path, \"r\") as f:\n",
    "    data = json.load(f)\n",
    "\n",
    "# Extract the list of sessions from the \"_items\" key\n",
    "sessions = data.get(\"_items\", [])\n",
    "\n",
    "# Convert the sessions list to a DataFrame\n",
    "df = pd.DataFrame(sessions)\n",
    "\n",
    "# If \"userInputs\" is a list of dicts, convert each entry to a string for CSV storage\n",
    "if \"userInputs\" in df.columns:\n",
    "    df[\"userInputs\"] = df[\"userInputs\"].apply(lambda x: json.dumps(x) if x else None)\n",
    "\n",
    "# Write the DataFrame to CSV\n",
    "df.to_csv(csv_path, index=False)\n",
    "\n",
    "print(f\"CSV file saved to: {csv_path}\")"
   ],
   "id": "f0f1f9d8d85512d7",
   "outputs": [
    {
     "name": "stdout",
     "output_type": "stream",
     "text": [
      "CSV file saved to: /Users/huibvanderveen/Desktop/Pycharm Projects/ML_New/YEAR/sessions_filtered_2021.csv\n"
     ]
    }
   ],
   "execution_count": 16
  },
  {
   "metadata": {
    "ExecuteTime": {
     "end_time": "2025-04-09T08:40:35.543231Z",
     "start_time": "2025-04-09T08:40:35.541782Z"
    }
   },
   "cell_type": "code",
   "source": "",
   "id": "d4891c7e6a2cbdbd",
   "outputs": [],
   "execution_count": 6
  },
  {
   "metadata": {},
   "cell_type": "code",
   "outputs": [],
   "execution_count": null,
   "source": "",
   "id": "88a43144a1f723c1"
  }
 ],
 "metadata": {
  "kernelspec": {
   "display_name": "Python 3",
   "language": "python",
   "name": "python3"
  },
  "language_info": {
   "codemirror_mode": {
    "name": "ipython",
    "version": 2
   },
   "file_extension": ".py",
   "mimetype": "text/x-python",
   "name": "python",
   "nbconvert_exporter": "python",
   "pygments_lexer": "ipython2",
   "version": "2.7.6"
  }
 },
 "nbformat": 4,
 "nbformat_minor": 5
}
