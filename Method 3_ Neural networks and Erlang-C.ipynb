{
 "cells": [
  {
   "cell_type": "code",
   "execution_count": 2,
   "id": "initial_id",
   "metadata": {
    "ExecuteTime": {
     "end_time": "2025-03-19T14:22:36.045764Z",
     "start_time": "2025-03-19T14:22:08.804160Z"
    },
    "collapsed": true
   },
   "outputs": [
    {
     "ename": "SyntaxError",
     "evalue": "invalid syntax (2094801249.py, line 1)",
     "output_type": "error",
     "traceback": [
      "\u001b[0;36m  Cell \u001b[0;32mIn[2], line 1\u001b[0;36m\u001b[0m\n\u001b[0;31m    pip install tensorflow\u001b[0m\n\u001b[0m        ^\u001b[0m\n\u001b[0;31mSyntaxError\u001b[0m\u001b[0;31m:\u001b[0m invalid syntax\n"
     ]
    }
   ],
   "source": [
    "pip install tensorflow\n",
    "import pandas as pd\n",
    "import numpy as np\n",
    "import matplotlib.pyplot as plt\n",
    "from sklearn.model_selection import train_test_split\n",
    "from sklearn.preprocessing import StandardScaler\n",
    "from sklearn.metrics import mean_absolute_error, mean_squared_error, r2_score\n",
    "import tensorflow as tf\n",
    "from scipy.special import gamma\n",
    "from scipy.optimize import minimize\n",
    "\n",
    "# 📌 Stap 1: Data inladen\n",
    "df = pd.read_csv(\"acndata_sessions.csv\")\n",
    "\n",
    "# 📌 Stap 2: Data voorbereiden\n",
    "df[\"connectionTime\"] = pd.to_datetime(df[\"connectionTime\"])\n",
    "df[\"disconnectTime\"] = pd.to_datetime(df[\"disconnectTime\"])\n",
    "df[\"duration\"] = (df[\"disconnectTime\"] - df[\"connectionTime\"]).dt.total_seconds() / 60  # in minuten\n",
    "\n",
    "# 📌 Stap 3: Feature Engineering\n",
    "df[\"hour\"] = df[\"connectionTime\"].dt.hour  # Uur van de dag\n",
    "df[\"weekday\"] = df[\"connectionTime\"].dt.weekday  # 0=maandag, 6=zondag\n",
    "df[\"is_weekend\"] = df[\"weekday\"].apply(lambda x: 1 if x >= 5 else 0)  # Weekend indicator\n",
    "\n",
    "# Selecteer relevante features\n",
    "features = [\"hour\", \"weekday\", \"is_weekend\"]\n",
    "X = df[features]\n",
    "y = df[\"duration\"]\n",
    "\n",
    "# 📌 Stap 4: Train-test split en schaalverdeling\n",
    "X_train, X_test, y_train, y_test = train_test_split(X, y, test_size=0.2, random_state=42)\n",
    "scaler = StandardScaler()\n",
    "X_train = scaler.fit_transform(X_train)\n",
    "X_test = scaler.transform(X_test)\n",
    "\n",
    "# 📌 Stap 5: Neuraal Netwerk (MLP) trainen\n",
    "model = tf.keras.Sequential([\n",
    "    tf.keras.layers.Dense(32, activation=\"relu\", input_shape=(X_train.shape[1],)),\n",
    "    tf.keras.layers.Dense(16, activation=\"relu\"),\n",
    "    tf.keras.layers.Dense(1)  # Regressie-uitgang\n",
    "])\n",
    "\n",
    "model.compile(optimizer=\"adam\", loss=\"mse\", metrics=[\"mae\"])\n",
    "history = model.fit(X_train, y_train, epochs=50, batch_size=32, validation_split=0.2, verbose=1)\n",
    "\n",
    "# 📌 Stap 6: Model evalueren\n",
    "y_pred = model.predict(X_test).flatten()\n",
    "mae = mean_absolute_error(y_test, y_pred)\n",
    "mse = mean_squared_error(y_test, y_pred)\n",
    "r2 = r2_score(y_test, y_pred)\n",
    "\n",
    "print(f\"MAE: {mae:.2f} min, MSE: {mse:.2f}, R²: {r2:.2f}\")\n",
    "\n",
    "# 📌 Stap 7: Erlang-C Wachttijdmodel\n",
    "def erlang_c(n, rho):\n",
    "    \"\"\" Berekening van de gemiddelde wachttijd volgens het Erlang-C model \"\"\"\n",
    "    erlang = ( (n * rho) ** n / (np.math.factorial(n) * (1 - rho)) ) / (\n",
    "        sum(( (n * rho) ** k / np.math.factorial(k) ) for k in range(n)) + ( (n * rho) ** n / (np.math.factorial(n) * (1 - rho)) )\n",
    "    )\n",
    "    return erlang / (n * (1 - rho))\n",
    "\n",
    "# Simulatie van wachttijden\n",
    "n_servers = 5  # Aantal laadpalen\n",
    "arrival_rate = 10  # Aantal auto's per uur\n",
    "service_rate = 1 / (y_train.mean() / 60)  # Gemiddelde servicetijd in uur\n",
    "\n",
    "rho = arrival_rate / (n_servers * service_rate)\n",
    "if rho < 1:\n",
    "    wait_time = erlang_c(n_servers, rho) / service_rate\n",
    "    print(f\"Gemiddelde wachttijd volgens Erlang-C: {wait_time:.2f} uur\")\n",
    "else:\n",
    "    print(\"Waarschuwing: Wachtrij niet stabiel (rho ≥ 1)\")\n",
    "\n",
    "# 📌 Stap 8: Visualisatie van modelprestaties\n",
    "plt.figure(figsize=(8, 5))\n",
    "plt.scatter(y_test, y_pred, alpha=0.5)\n",
    "plt.plot([0, max(y_test)], [0, max(y_test)], \"--\", color=\"red\", label=\"Perfect Fit\")\n",
    "plt.xlabel(\"Werkelijke duur (min)\")\n",
    "plt.ylabel(\"Voorspelde duur (min)\")\n",
    "plt.title(\"Voorspelling vs Werkelijke duur\")\n",
    "plt.legend()\n",
    "plt.show()"
   ]
  },
  {
   "cell_type": "code",
   "execution_count": null,
   "id": "40761f842f3436ba",
   "metadata": {},
   "outputs": [],
   "source": [
    "#Test Huub"
   ]
  }
 ],
 "metadata": {
  "kernelspec": {
   "display_name": "SEN122A",
   "language": "python",
   "name": "python3"
  },
  "language_info": {
   "codemirror_mode": {
    "name": "ipython",
    "version": 3
   },
   "file_extension": ".py",
   "mimetype": "text/x-python",
   "name": "python",
   "nbconvert_exporter": "python",
   "pygments_lexer": "ipython3",
   "version": "3.12.7"
  }
 },
 "nbformat": 4,
 "nbformat_minor": 5
}
